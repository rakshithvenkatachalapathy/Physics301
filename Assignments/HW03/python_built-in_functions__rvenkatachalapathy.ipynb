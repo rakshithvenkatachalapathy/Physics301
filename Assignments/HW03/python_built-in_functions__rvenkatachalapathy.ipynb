{
 "cells": [
  {
   "cell_type": "markdown",
   "metadata": {},
   "source": [
    "HW03"
   ]
  },
  {
   "cell_type": "raw",
   "metadata": {},
   "source": [
    "abs()"
   ]
  },
  {
   "cell_type": "code",
   "execution_count": 1,
   "metadata": {},
   "outputs": [
    {
     "data": {
      "text/plain": [
       "0.87"
      ]
     },
     "execution_count": 1,
     "metadata": {},
     "output_type": "execute_result"
    }
   ],
   "source": [
    "abs(-0.87)"
   ]
  },
  {
   "cell_type": "raw",
   "metadata": {},
   "source": [
    "all()"
   ]
  },
  {
   "cell_type": "code",
   "execution_count": 2,
   "metadata": {},
   "outputs": [
    {
     "name": "stdout",
     "output_type": "stream",
     "text": [
      "True\n"
     ]
    }
   ],
   "source": [
    "lst = [True, True, True]\n",
    "x = all(lst)\n",
    "print(x)"
   ]
  },
  {
   "cell_type": "code",
   "execution_count": 3,
   "metadata": {},
   "outputs": [
    {
     "name": "stdout",
     "output_type": "stream",
     "text": [
      "False\n"
     ]
    }
   ],
   "source": [
    "lst = [True, True, False]\n",
    "x = all(lst)\n",
    "print(x)"
   ]
  },
  {
   "cell_type": "raw",
   "metadata": {},
   "source": [
    "any()"
   ]
  },
  {
   "cell_type": "code",
   "execution_count": 5,
   "metadata": {},
   "outputs": [
    {
     "name": "stdout",
     "output_type": "stream",
     "text": [
      "True\n"
     ]
    }
   ],
   "source": [
    "lst1=[False, True, False]\n",
    "x1= any(lst1)\n",
    "print(x1)"
   ]
  },
  {
   "cell_type": "raw",
   "metadata": {},
   "source": [
    "bin()"
   ]
  },
  {
   "cell_type": "code",
   "execution_count": 39,
   "metadata": {},
   "outputs": [
    {
     "name": "stdout",
     "output_type": "stream",
     "text": [
      "-0b1011\n",
      "0b10\n",
      "0b1010\n"
     ]
    }
   ],
   "source": [
    "print(bin(-11)) #negative number\n",
    "print(bin(2)) #integers\n",
    "print(bin(0xA)) #hex numbers"
   ]
  },
  {
   "cell_type": "raw",
   "metadata": {},
   "source": [
    "callable()"
   ]
  },
  {
   "cell_type": "code",
   "execution_count": 40,
   "metadata": {},
   "outputs": [
    {
     "name": "stdout",
     "output_type": "stream",
     "text": [
      "True\n",
      "False\n"
     ]
    }
   ],
   "source": [
    "def num():\n",
    "    return 5\n",
    "\n",
    "n =num\n",
    "n1 =5\n",
    "print(callable(n))\n",
    "print(callable(n1))"
   ]
  },
  {
   "cell_type": "raw",
   "metadata": {},
   "source": [
    "chr()"
   ]
  },
  {
   "cell_type": "code",
   "execution_count": 17,
   "metadata": {},
   "outputs": [
    {
     "name": "stdout",
     "output_type": "stream",
     "text": [
      "0\n",
      "a\n",
      "\n",
      "\n",
      "d\n",
      "\t\n",
      "i\n"
     ]
    }
   ],
   "source": [
    "print(chr(48))\n",
    "print(chr(97))\n",
    "print(chr(10)) #new line\n",
    "print(chr(100))\n",
    "print(chr(9)) #horizontal tab\n",
    "print(chr(105))"
   ]
  },
  {
   "cell_type": "raw",
   "metadata": {},
   "source": [
    "divmod()"
   ]
  },
  {
   "cell_type": "code",
   "execution_count": 19,
   "metadata": {},
   "outputs": [
    {
     "name": "stdout",
     "output_type": "stream",
     "text": [
      "The quotient when 10 divided 3 is 3 and the remainder is 1\n"
     ]
    }
   ],
   "source": [
    "x=divmod(10,3)\n",
    "print('The quotient when 10 divided 3 is {:1} and the remainder is {:1}'.format(x[0],x[1]))"
   ]
  },
  {
   "cell_type": "raw",
   "metadata": {},
   "source": [
    "enumerate()"
   ]
  },
  {
   "cell_type": "code",
   "execution_count": 23,
   "metadata": {},
   "outputs": [
    {
     "data": {
      "text/plain": [
       "[(1, 'Spring'), (2, 'Summer'), (3, 'Fall'), (4, 'Winter')]"
      ]
     },
     "execution_count": 23,
     "metadata": {},
     "output_type": "execute_result"
    }
   ],
   "source": [
    "seasons = ['Spring', 'Summer', 'Fall', 'Winter']\n",
    "list(enumerate(seasons, start=1))"
   ]
  },
  {
   "cell_type": "raw",
   "metadata": {},
   "source": [
    "eval()"
   ]
  },
  {
   "cell_type": "code",
   "execution_count": 27,
   "metadata": {},
   "outputs": [
    {
     "name": "stdout",
     "output_type": "stream",
     "text": [
      "Enter the function(in terms of x):x+2+x\n",
      "Enter the value of x:3\n",
      "y = 8\n"
     ]
    }
   ],
   "source": [
    "from math import *\n",
    "expr = input(\"Enter the function(in terms of x):\")\n",
    "x = int(input(\"Enter the value of x:\")) \n",
    "y = eval(expr)\n",
    "print(\"y = {}\".format(y)) "
   ]
  },
  {
   "cell_type": "raw",
   "metadata": {},
   "source": [
    "help()"
   ]
  },
  {
   "cell_type": "code",
   "execution_count": 30,
   "metadata": {},
   "outputs": [
    {
     "name": "stdout",
     "output_type": "stream",
     "text": [
      "Help on built-in function print in module builtins:\n",
      "\n",
      "print(...)\n",
      "    print(value, ..., sep=' ', end='\\n', file=sys.stdout, flush=False)\n",
      "    \n",
      "    Prints the values to a stream, or to sys.stdout by default.\n",
      "    Optional keyword arguments:\n",
      "    file:  a file-like object (stream); defaults to the current sys.stdout.\n",
      "    sep:   string inserted between values, default a space.\n",
      "    end:   string appended after the last value, default a newline.\n",
      "    flush: whether to forcibly flush the stream.\n",
      "\n"
     ]
    }
   ],
   "source": [
    "help(print)"
   ]
  },
  {
   "cell_type": "raw",
   "metadata": {},
   "source": [
    "hex()"
   ]
  },
  {
   "cell_type": "code",
   "execution_count": 31,
   "metadata": {},
   "outputs": [
    {
     "name": "stdout",
     "output_type": "stream",
     "text": [
      "0xff\n",
      "0x7\n"
     ]
    }
   ],
   "source": [
    "print(hex(255))  # decimal\n",
    "print(hex(0b111)) #binary"
   ]
  },
  {
   "cell_type": "raw",
   "metadata": {},
   "source": [
    "int()"
   ]
  },
  {
   "cell_type": "code",
   "execution_count": 32,
   "metadata": {},
   "outputs": [
    {
     "name": "stdout",
     "output_type": "stream",
     "text": [
      "123\n",
      "10\n"
     ]
    }
   ],
   "source": [
    "print(int('123'))\n",
    "print(int('0xA', 16))"
   ]
  },
  {
   "cell_type": "raw",
   "metadata": {},
   "source": [
    "isinstance()"
   ]
  },
  {
   "cell_type": "code",
   "execution_count": 41,
   "metadata": {},
   "outputs": [
    {
     "name": "stdout",
     "output_type": "stream",
     "text": [
      "x is an integer\n",
      "y is a float value\n"
     ]
    }
   ],
   "source": [
    "x=2\n",
    "y=1.2\n",
    "if isinstance(x,int):\n",
    "    print('x is an integer')\n",
    "if isinstance(y,float):\n",
    "    print('y is a float value')"
   ]
  },
  {
   "cell_type": "raw",
   "metadata": {},
   "source": [
    "list()"
   ]
  },
  {
   "cell_type": "code",
   "execution_count": 44,
   "metadata": {},
   "outputs": [
    {
     "name": "stdout",
     "output_type": "stream",
     "text": [
      "List elements :  [123, 'xyz', 'zara', 'abc']\n"
     ]
    }
   ],
   "source": [
    "aTuple = (123, 'xyz', 'zara', 'abc')\n",
    "aList = list(aTuple) #converts to a list\n",
    "print (\"List elements : \", aList)"
   ]
  },
  {
   "cell_type": "raw",
   "metadata": {},
   "source": [
    "map()"
   ]
  },
  {
   "cell_type": "code",
   "execution_count": 45,
   "metadata": {},
   "outputs": [
    {
     "name": "stdout",
     "output_type": "stream",
     "text": [
      "[2, 4, 6, 8]\n"
     ]
    }
   ],
   "source": [
    "def addition(n): \n",
    "    return n + n \n",
    "# We double all numbers using map() \n",
    "numbers = (1, 2, 3, 4) \n",
    "result = map(addition, numbers) \n",
    "print(list(result))"
   ]
  },
  {
   "cell_type": "raw",
   "metadata": {},
   "source": [
    "max()"
   ]
  },
  {
   "cell_type": "code",
   "execution_count": 47,
   "metadata": {},
   "outputs": [
    {
     "name": "stdout",
     "output_type": "stream",
     "text": [
      "20\n",
      "Vicky\n"
     ]
    }
   ],
   "source": [
    "xmax = max(5, 10,20,15)\n",
    "print(xmax)\n",
    "\n",
    "listmax=max(\"Mike\", \"John\", \"Vicky\")\n",
    "print(listmax)"
   ]
  },
  {
   "cell_type": "raw",
   "metadata": {},
   "source": [
    "min()"
   ]
  },
  {
   "cell_type": "code",
   "execution_count": 49,
   "metadata": {},
   "outputs": [
    {
     "name": "stdout",
     "output_type": "stream",
     "text": [
      "2\n",
      "John\n"
     ]
    }
   ],
   "source": [
    "xmin = min(5,7,2,8)\n",
    "print(xmin)\n",
    "listmin=min(\"Mike\", \"John\", \"Vicky\")\n",
    "print(listmin)"
   ]
  },
  {
   "cell_type": "raw",
   "metadata": {},
   "source": [
    "oct()"
   ]
  },
  {
   "cell_type": "code",
   "execution_count": 52,
   "metadata": {},
   "outputs": [
    {
     "name": "stdout",
     "output_type": "stream",
     "text": [
      "0o14\n",
      "0o7\n"
     ]
    }
   ],
   "source": [
    "xoct = oct(12)\n",
    "yoct = oct(0b111)\n",
    "print(xoct)\n",
    "print(yoct)"
   ]
  },
  {
   "cell_type": "raw",
   "metadata": {},
   "source": [
    "reversed()"
   ]
  },
  {
   "cell_type": "code",
   "execution_count": 53,
   "metadata": {},
   "outputs": [
    {
     "name": "stdout",
     "output_type": "stream",
     "text": [
      "['h', 'k', 'l', 'e', 'f']\n",
      "[4, 3, 2, 1]\n",
      "[5, 3, 4, 2, 1]\n"
     ]
    }
   ],
   "source": [
    "# For tuple \n",
    "seqTuple = ('f', 'e', 'l', 'k', 'h') \n",
    "print(list(reversed(seqTuple))) \n",
    "# For range \n",
    "seqRange = range(1, 5) \n",
    "print(list(reversed(seqRange)))   \n",
    "# For list \n",
    "seqList = [1, 2, 4, 3, 5] \n",
    "print(list(reversed(seqList))) "
   ]
  },
  {
   "cell_type": "code",
   "execution_count": 54,
   "metadata": {},
   "outputs": [
    {
     "name": "stdout",
     "output_type": "stream",
     "text": [
      "5.79\n"
     ]
    }
   ],
   "source": [
    "xr = round(5.7896543, 3)\n",
    "print(xr)"
   ]
  },
  {
   "cell_type": "raw",
   "metadata": {},
   "source": [
    "sum()"
   ]
  },
  {
   "cell_type": "code",
   "execution_count": 55,
   "metadata": {},
   "outputs": [
    {
     "name": "stdout",
     "output_type": "stream",
     "text": [
      "25\n",
      "35\n"
     ]
    }
   ],
   "source": [
    "numbers = [1,2,3,4,5,1,4,5] \n",
    "# start parameter is not provided \n",
    "Sum = sum(numbers) \n",
    "print(Sum)  \n",
    "# start = 10 \n",
    "Sum = sum(numbers, 10) \n",
    "print(Sum)"
   ]
  },
  {
   "cell_type": "raw",
   "metadata": {},
   "source": [
    "tuple()"
   ]
  },
  {
   "cell_type": "code",
   "execution_count": 56,
   "metadata": {},
   "outputs": [
    {
     "name": "stdout",
     "output_type": "stream",
     "text": [
      "()\n",
      "(1, 2, 3, 4)\n",
      "(1, 2)\n",
      "('p', 'y', 't', 'h', 'o', 'n', 'p', 'r', 'a', 'c', 't', 'i', 'c', 'e')\n"
     ]
    }
   ],
   "source": [
    "# when parameter is not passed \n",
    "tuple1 = tuple() \n",
    "print(tuple1)   \n",
    "# when an iterable(e.g., list) is passed \n",
    "list1= [ 1, 2, 3, 4 ]  \n",
    "tuple2 = tuple(list1) \n",
    "print(tuple2)   \n",
    "# when an iterable(e.g., dictionary) is passed \n",
    "dict = { 1 : 'one', 2 : 'two' }  \n",
    "tuple3 = tuple(dict) \n",
    "print(tuple3)  \n",
    "# when an iterable(e.g., string) is passed \n",
    "string = \"pythonpractice\" \n",
    "tuple4 = tuple(string) \n",
    "print(tuple4) "
   ]
  },
  {
   "cell_type": "raw",
   "metadata": {},
   "source": [
    "zip()"
   ]
  },
  {
   "cell_type": "code",
   "execution_count": 57,
   "metadata": {},
   "outputs": [
    {
     "name": "stdout",
     "output_type": "stream",
     "text": [
      "(('Rak', 'Jack'), ('Sam', 'Vick'), ('Mike', 'Monica'))\n"
     ]
    }
   ],
   "source": [
    "a = (\"Rak\", \"Sam\", \"Mike\")\n",
    "b = (\"Jack\", \"Vick\", \"Monica\", \"Tim\")\n",
    "x = zip(a, b)\n",
    "print(tuple(x))"
   ]
  }
 ],
 "metadata": {
  "kernelspec": {
   "display_name": "Python 3",
   "language": "python",
   "name": "python3"
  },
  "language_info": {
   "codemirror_mode": {
    "name": "ipython",
    "version": 3
   },
   "file_extension": ".py",
   "mimetype": "text/x-python",
   "name": "python",
   "nbconvert_exporter": "python",
   "pygments_lexer": "ipython3",
   "version": "3.7.4"
  }
 },
 "nbformat": 4,
 "nbformat_minor": 2
}
