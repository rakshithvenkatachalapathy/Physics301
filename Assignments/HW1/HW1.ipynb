{
 "cells": [
  {
   "cell_type": "code",
   "execution_count": 1,
   "metadata": {},
   "outputs": [
    {
     "name": "stdout",
     "output_type": "stream",
     "text": [
      "running...\n",
      "\n"
     ]
    },
    {
     "ename": "ZeroDivisionError",
     "evalue": "float division by zero",
     "output_type": "error",
     "traceback": [
      "\u001b[0;31m---------------------------------------------------------------------------\u001b[0m",
      "\u001b[0;31mZeroDivisionError\u001b[0m                         Traceback (most recent call last)",
      "\u001b[0;32m<ipython-input-1-f200b19a5e2d>\u001b[0m in \u001b[0;36m<module>\u001b[0;34m\u001b[0m\n\u001b[1;32m     50\u001b[0m \u001b[0;34m\u001b[0m\u001b[0m\n\u001b[1;32m     51\u001b[0m \u001b[0;32mif\u001b[0m \u001b[0m__name__\u001b[0m \u001b[0;34m==\u001b[0m \u001b[0;34m'__main__'\u001b[0m\u001b[0;34m:\u001b[0m\u001b[0;34m\u001b[0m\u001b[0;34m\u001b[0m\u001b[0m\n\u001b[0;32m---> 52\u001b[0;31m     \u001b[0mmain\u001b[0m\u001b[0;34m(\u001b[0m\u001b[0;34m)\u001b[0m\u001b[0;34m\u001b[0m\u001b[0;34m\u001b[0m\u001b[0m\n\u001b[0m",
      "\u001b[0;32m<ipython-input-1-f200b19a5e2d>\u001b[0m in \u001b[0;36mmain\u001b[0;34m()\u001b[0m\n\u001b[1;32m     13\u001b[0m     \u001b[0mprint\u001b[0m\u001b[0;34m(\u001b[0m\u001b[0;34m'running...\\n'\u001b[0m\u001b[0;34m)\u001b[0m\u001b[0;34m\u001b[0m\u001b[0;34m\u001b[0m\u001b[0m\n\u001b[1;32m     14\u001b[0m     \u001b[0;31m#lst = intg(sinx, 0, math.pi, 1e-7, True)\u001b[0m\u001b[0;34m\u001b[0m\u001b[0;34m\u001b[0m\u001b[0;34m\u001b[0m\u001b[0m\n\u001b[0;32m---> 15\u001b[0;31m     \u001b[0mlst\u001b[0m \u001b[0;34m=\u001b[0m \u001b[0mintg\u001b[0m\u001b[0;34m(\u001b[0m\u001b[0mexpr\u001b[0m\u001b[0;34m,\u001b[0m\u001b[0;36m0\u001b[0m\u001b[0;34m,\u001b[0m\u001b[0;36m100\u001b[0m\u001b[0;34m)\u001b[0m\u001b[0;34m\u001b[0m\u001b[0;34m\u001b[0m\u001b[0m\n\u001b[0m\u001b[1;32m     16\u001b[0m     \u001b[0mprint\u001b[0m\u001b[0;34m(\u001b[0m\u001b[0;34m'final= '\u001b[0m \u001b[0;34m+\u001b[0m \u001b[0mstr\u001b[0m\u001b[0;34m(\u001b[0m\u001b[0mlst\u001b[0m\u001b[0;34m[\u001b[0m\u001b[0;36m0\u001b[0m\u001b[0;34m]\u001b[0m\u001b[0;34m)\u001b[0m\u001b[0;34m)\u001b[0m\u001b[0;34m\u001b[0m\u001b[0;34m\u001b[0m\u001b[0m\n\u001b[1;32m     17\u001b[0m \u001b[0;34m\u001b[0m\u001b[0m\n",
      "\u001b[0;32m<ipython-input-1-f200b19a5e2d>\u001b[0m in \u001b[0;36mintg\u001b[0;34m(f, xlo, xhi, tol, print_progress)\u001b[0m\n\u001b[1;32m     28\u001b[0m \u001b[0;34m\u001b[0m\u001b[0m\n\u001b[1;32m     29\u001b[0m         \u001b[0;32mfor\u001b[0m \u001b[0mi\u001b[0m \u001b[0;32min\u001b[0m \u001b[0mrange\u001b[0m\u001b[0;34m(\u001b[0m\u001b[0;36m0\u001b[0m\u001b[0;34m,\u001b[0m \u001b[0mN\u001b[0m \u001b[0;34m+\u001b[0m \u001b[0;36m1\u001b[0m\u001b[0;34m)\u001b[0m\u001b[0;34m:\u001b[0m\u001b[0;34m\u001b[0m\u001b[0;34m\u001b[0m\u001b[0m\n\u001b[0;32m---> 30\u001b[0;31m             \u001b[0mresult\u001b[0m \u001b[0;34m=\u001b[0m \u001b[0mf\u001b[0m\u001b[0;34m(\u001b[0m\u001b[0mxlo\u001b[0m \u001b[0;34m+\u001b[0m \u001b[0;34m(\u001b[0m\u001b[0mi\u001b[0m \u001b[0;34m*\u001b[0m \u001b[0mdx\u001b[0m\u001b[0;34m)\u001b[0m\u001b[0;34m)\u001b[0m \u001b[0;34m*\u001b[0m \u001b[0mdx\u001b[0m\u001b[0;34m\u001b[0m\u001b[0;34m\u001b[0m\u001b[0m\n\u001b[0m\u001b[1;32m     31\u001b[0m             \u001b[0mnewsum\u001b[0m \u001b[0;34m=\u001b[0m \u001b[0mnewsum\u001b[0m \u001b[0;34m+\u001b[0m \u001b[0mresult\u001b[0m\u001b[0;34m\u001b[0m\u001b[0;34m\u001b[0m\u001b[0m\n\u001b[1;32m     32\u001b[0m \u001b[0;34m\u001b[0m\u001b[0m\n",
      "\u001b[0;32m<ipython-input-1-f200b19a5e2d>\u001b[0m in \u001b[0;36m<lambda>\u001b[0;34m(x)\u001b[0m\n\u001b[1;32m      6\u001b[0m \u001b[0mexpw\u001b[0m \u001b[0;34m=\u001b[0m \u001b[0;32mlambda\u001b[0m \u001b[0mx\u001b[0m\u001b[0;34m:\u001b[0m \u001b[0mmath\u001b[0m\u001b[0;34m.\u001b[0m\u001b[0mexp\u001b[0m\u001b[0;34m(\u001b[0m\u001b[0;34m-\u001b[0m\u001b[0;36m1\u001b[0m \u001b[0;34m*\u001b[0m \u001b[0mx\u001b[0m\u001b[0;34m)\u001b[0m\u001b[0;34m\u001b[0m\u001b[0;34m\u001b[0m\u001b[0m\n\u001b[1;32m      7\u001b[0m \u001b[0;34m\u001b[0m\u001b[0m\n\u001b[0;32m----> 8\u001b[0;31m \u001b[0mexpr\u001b[0m \u001b[0;34m=\u001b[0m \u001b[0;32mlambda\u001b[0m \u001b[0mx\u001b[0m\u001b[0;34m:\u001b[0m \u001b[0;34m(\u001b[0m\u001b[0mx\u001b[0m \u001b[0;34m**\u001b[0m \u001b[0;36m3\u001b[0m\u001b[0;34m)\u001b[0m \u001b[0;34m/\u001b[0m \u001b[0;34m(\u001b[0m\u001b[0mmath\u001b[0m\u001b[0;34m.\u001b[0m\u001b[0mexp\u001b[0m\u001b[0;34m(\u001b[0m\u001b[0mx\u001b[0m\u001b[0;34m)\u001b[0m \u001b[0;34m-\u001b[0m \u001b[0;36m1\u001b[0m\u001b[0;34m)\u001b[0m\u001b[0;34m\u001b[0m\u001b[0;34m\u001b[0m\u001b[0m\n\u001b[0m\u001b[1;32m      9\u001b[0m \u001b[0;34m\u001b[0m\u001b[0m\n\u001b[1;32m     10\u001b[0m \u001b[0;34m\u001b[0m\u001b[0m\n",
      "\u001b[0;31mZeroDivisionError\u001b[0m: float division by zero"
     ]
    }
   ],
   "source": [
    "\"\"\"\n",
    "This the module for home work 1.\n",
    "\n",
    "This provides one function, intg() which is used to evaluate the value of an integral between a the given limits\n",
    "\n",
    ">>\n",
    "\"\"\"\n",
    "import math\n",
    "from math import pi, sin\n",
    "'''\n",
    "Three lambda functions are defined below to evaluate three integrands\n",
    "'''\n",
    "sinx = lambda x: sin(x)\n",
    "\n",
    "expw = lambda x: math.exp(-1 * x)\n",
    "\n",
    "expr = lambda x: (x ** 3) / (math.exp(x) - 1)\n",
    "\n",
    "\n",
    "def main():\n",
    "    # lst = intg(expw, 1, 3, 1e-7, True)\n",
    "    print('\\nrunning...\\n')\n",
    "    lst = intg(sinx, 0, math.pi, 1e-7, True)\n",
    "    #lst = intg(expr, 0, 100)\n",
    "    fract_err = abs((lst[0] - math.pi ** 4) / 15)\n",
    "    print('The integral evaluated to within specified accuracy: {:1.8f}'.format(lst[0]))\n",
    "    print('The upper limit of its fractional error is estimated to be: {:1.8f}'.format(lst[1]))\n",
    "    print('The correct answer is: {:1.8f}'.format(math.pi ** 4 / 15))\n",
    "    print('The actual fractional error is: {:1.8f}%'.format(fract_err))\n",
    "\n",
    "\n",
    "def intg(f, xlo, xhi, tol=1e-7, print_progress=True):\n",
    "    \"\"\"\n",
    "    This function is used to evaluate the value of an integral function passed to it, between the given limits.\n",
    "    The function executes until the fractional difference computed, falls below a certain tolerance level and prints the\n",
    "    intermediate in a certain format\n",
    "\n",
    "    :param f: function for which the integral needs to be evaluated\n",
    "    :param xlo: the lower integration limit\n",
    "    :param xhi: the upper integration limit\n",
    "    :param tol: the tolerance level\n",
    "    :param print_progress: a boolean flag used to suppress the printing statements\n",
    "\n",
    "    :return: A tuple with two elements, the result of the integral and the final fractional difference\n",
    "\n",
    "    \"\"\"\n",
    "    oldsum = 0\n",
    "    newsum = 0\n",
    "    fract_diff = 1\n",
    "    dx = 1\n",
    "\n",
    "    while fract_diff > 1e-7:\n",
    "\n",
    "        N = int((xhi - xlo) / dx)\n",
    "\n",
    "        for i in range(0, N + 1):\n",
    "            if i == 0 and f == expr:\n",
    "                result = dx\n",
    "            else:\n",
    "                result = f(xlo + (i * dx)) * dx\n",
    "            newsum = newsum + result\n",
    "\n",
    "        if print_progress:\n",
    "            print('number of steps:{:5.0f}'.format(N))\n",
    "            print('dy = {:1.5f} , integral = {:1.8f}'.format(dx, newsum))\n",
    "            if dx == 1:\n",
    "                print('frac_diff = N/A\\n')\n",
    "            else:\n",
    "                print('frac_diff = {:1.8f}%\\n'.format(fract_diff * 100))\n",
    "\n",
    "        fract_diff = abs((newsum - oldsum) / newsum)\n",
    "        oldsum = newsum\n",
    "        if fract_diff > 1e-7:\n",
    "            newsum = 0\n",
    "        dx = dx / 2\n",
    "        newsum = round(newsum, 8)\n",
    "\n",
    "    return newsum, fract_diff\n",
    "\n",
    "\n",
    "if __name__ == '__main__':\n",
    "    main()\n"
   ]
  },
  {
   "cell_type": "code",
   "execution_count": null,
   "metadata": {},
   "outputs": [],
   "source": []
  },
  {
   "cell_type": "code",
   "execution_count": null,
   "metadata": {},
   "outputs": [],
   "source": []
  }
 ],
 "metadata": {
  "kernelspec": {
   "display_name": "Python 3",
   "language": "python",
   "name": "python3"
  },
  "language_info": {
   "codemirror_mode": {
    "name": "ipython",
    "version": 3
   },
   "file_extension": ".py",
   "mimetype": "text/x-python",
   "name": "python",
   "nbconvert_exporter": "python",
   "pygments_lexer": "ipython3",
   "version": "3.7.4"
  }
 },
 "nbformat": 4,
 "nbformat_minor": 1
}
