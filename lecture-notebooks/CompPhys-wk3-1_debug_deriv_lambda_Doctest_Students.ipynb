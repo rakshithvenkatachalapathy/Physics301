{
 "cells": [
  {
   "cell_type": "markdown",
   "metadata": {},
   "source": [
    "## Keynote Slides and This notebook\n",
    "# Topics \n",
    "- ## Interactive Debugging Tool\n",
    "- ## Numerical Derivatives\n",
    "- ## Lambda Functions\n",
    "- ## Doctest"
   ]
  },
  {
   "cell_type": "code",
   "execution_count": 2,
   "metadata": {},
   "outputs": [],
   "source": [
    "import matplotlib as mpl"
   ]
  },
  {
   "cell_type": "code",
   "execution_count": 3,
   "metadata": {},
   "outputs": [
    {
     "data": {
      "text/plain": [
       "'3.1.1'"
      ]
     },
     "execution_count": 3,
     "metadata": {},
     "output_type": "execute_result"
    }
   ],
   "source": [
    "mpl.__version__"
   ]
  },
  {
   "cell_type": "markdown",
   "metadata": {},
   "source": [
    "## Interactive Python Debugging Tool (module: pdb or ipdb):\n",
    "### Step by step execution"
   ]
  },
  {
   "cell_type": "markdown",
   "metadata": {},
   "source": [
    "Esp. useful commands in pdb/ipdb\n",
    "\n",
    "- n(ext)\n",
    "- s(tep)\n",
    "- p(rint)\n",
    "- unt(il)\n",
    "- c(ontinue)\n",
    "- l(ist)\n",
    "- w(here)\n",
    "- h(elp)\n",
    "- q(uit)\n",
    "\n",
    "You can get full list by googling \"python pdb\" or \"python ipdb\".\n",
    "\n",
    "For ipdb, you may need to do \n",
    "\n",
    "       > pip install ipdb"
   ]
  },
  {
   "cell_type": "code",
   "execution_count": 7,
   "metadata": {},
   "outputs": [
    {
     "name": "stdout",
     "output_type": "stream",
     "text": [
      "Collecting package metadata (current_repodata.json): done\n",
      "Solving environment: done\n",
      "\n",
      "# All requested packages already installed.\n",
      "\n",
      "\n",
      "Note: you may need to restart the kernel to use updated packages.\n"
     ]
    }
   ],
   "source": [
    "conda install -c conda-forge ipdb"
   ]
  },
  {
   "cell_type": "code",
   "execution_count": 8,
   "metadata": {},
   "outputs": [
    {
     "ename": "KeyboardInterrupt",
     "evalue": "",
     "output_type": "error",
     "traceback": [
      "\u001b[0;31m---------------------------------------------------------------------------\u001b[0m",
      "\u001b[0;31mKeyboardInterrupt\u001b[0m                         Traceback (most recent call last)",
      "\u001b[0;32m<ipython-input-8-d0dd0528738d>\u001b[0m in \u001b[0;36m<module>\u001b[0;34m\u001b[0m\n\u001b[1;32m     21\u001b[0m \u001b[0;34m\u001b[0m\u001b[0m\n\u001b[1;32m     22\u001b[0m \u001b[0ma_list\u001b[0m \u001b[0;34m=\u001b[0m \u001b[0;34m[\u001b[0m\u001b[0;36m1\u001b[0m\u001b[0;34m,\u001b[0m \u001b[0;36m2\u001b[0m\u001b[0;34m,\u001b[0m \u001b[0;36m3\u001b[0m\u001b[0;34m,\u001b[0m \u001b[0;36m4\u001b[0m\u001b[0;34m,\u001b[0m \u001b[0;36m5\u001b[0m\u001b[0;34m,\u001b[0m \u001b[0;36m6\u001b[0m\u001b[0;34m,\u001b[0m \u001b[0;36m10\u001b[0m\u001b[0;34m,\u001b[0m \u001b[0;34m\"one hundred\"\u001b[0m\u001b[0;34m]\u001b[0m\u001b[0;34m\u001b[0m\u001b[0;34m\u001b[0m\u001b[0m\n\u001b[0;32m---> 23\u001b[0;31m \u001b[0mavg\u001b[0m \u001b[0;34m=\u001b[0m \u001b[0mmean\u001b[0m\u001b[0;34m(\u001b[0m\u001b[0ma_list\u001b[0m\u001b[0;34m)\u001b[0m\u001b[0;34m\u001b[0m\u001b[0;34m\u001b[0m\u001b[0m\n\u001b[0m\u001b[1;32m     24\u001b[0m \u001b[0mprint\u001b[0m\u001b[0;34m(\u001b[0m\u001b[0mavg\u001b[0m\u001b[0;34m)\u001b[0m\u001b[0;34m\u001b[0m\u001b[0;34m\u001b[0m\u001b[0m\n\u001b[1;32m     25\u001b[0m \u001b[0mprint\u001b[0m\u001b[0;34m(\u001b[0m\u001b[0;34m'DONE!'\u001b[0m\u001b[0;34m)\u001b[0m\u001b[0;34m\u001b[0m\u001b[0;34m\u001b[0m\u001b[0m\n",
      "\u001b[0;32m<ipython-input-8-d0dd0528738d>\u001b[0m in \u001b[0;36mmean\u001b[0;34m(nums)\u001b[0m\n\u001b[1;32m     17\u001b[0m     \u001b[0mtop\u001b[0m \u001b[0;34m=\u001b[0m \u001b[0;36m0\u001b[0m\u001b[0;34m\u001b[0m\u001b[0;34m\u001b[0m\u001b[0m\n\u001b[1;32m     18\u001b[0m     \u001b[0;32mwhile\u001b[0m \u001b[0midx\u001b[0m \u001b[0;34m<\u001b[0m \u001b[0mlen\u001b[0m\u001b[0;34m(\u001b[0m\u001b[0mnums\u001b[0m\u001b[0;34m)\u001b[0m\u001b[0;34m:\u001b[0m\u001b[0;34m\u001b[0m\u001b[0;34m\u001b[0m\u001b[0m\n\u001b[0;32m---> 19\u001b[0;31m         \u001b[0mtop\u001b[0m \u001b[0;34m+=\u001b[0m \u001b[0mnums\u001b[0m\u001b[0;34m[\u001b[0m\u001b[0midx\u001b[0m\u001b[0;34m]\u001b[0m\u001b[0;34m\u001b[0m\u001b[0;34m\u001b[0m\u001b[0m\n\u001b[0m\u001b[1;32m     20\u001b[0m     \u001b[0;32mreturn\u001b[0m \u001b[0mtop\u001b[0m\u001b[0;34m/\u001b[0m\u001b[0mbot\u001b[0m\u001b[0;34m\u001b[0m\u001b[0;34m\u001b[0m\u001b[0m\n\u001b[1;32m     21\u001b[0m \u001b[0;34m\u001b[0m\u001b[0m\n",
      "\u001b[0;31mKeyboardInterrupt\u001b[0m: "
     ]
    }
   ],
   "source": [
    "'''\n",
    "The code below is supposed to compute the average of a list of numbers, \n",
    "but it doesn't work.\n",
    "\n",
    "Broken code!\n",
    "\n",
    "'''\n",
    "def check_bot(bot):\n",
    "    if bot ==0:\n",
    "        print ('Dividing by zero . Exit')\n",
    "        raise KeyboardInterrupt\n",
    "    \n",
    "\n",
    "def mean(nums):\n",
    "    bot = len(nums)\n",
    "    idx = 0\n",
    "    top = 0\n",
    "    while idx < len(nums):\n",
    "        top += nums[idx]\n",
    "    return top/bot\n",
    "\n",
    "a_list = [1, 2, 3, 4, 5, 6, 10, \"one hundred\"]\n",
    "avg = mean(a_list)\n",
    "print(avg)\n",
    "print('DONE!')\n",
    "# Won't run!"
   ]
  },
  {
   "cell_type": "code",
   "execution_count": null,
   "metadata": {},
   "outputs": [
    {
     "name": "stdout",
     "output_type": "stream",
     "text": [
      "> <ipython-input-9-be443d8a9f8c>(4)mean()\n",
      "-> bot = len(nums)\n",
      "(Pdb) s\n",
      "> <ipython-input-9-be443d8a9f8c>(5)mean()\n",
      "-> idx = 0\n",
      "--KeyboardInterrupt--\n",
      "--KeyboardInterrupt--\n",
      "--KeyboardInterrupt--\n",
      "(Pdb) n\n",
      "> <ipython-input-9-be443d8a9f8c>(6)mean()\n",
      "-> top = 0\n",
      "(Pdb) 0\n",
      "0\n",
      "(Pdb) 0\n",
      "0\n",
      "--KeyboardInterrupt--\n",
      "--KeyboardInterrupt--\n",
      "--KeyboardInterrupt--\n",
      "--KeyboardInterrupt--\n"
     ]
    }
   ],
   "source": [
    "from pdb import set_trace\n",
    "def check_bot(bot):\n",
    "    if bot ==0:\n",
    "        print ('Dividing by zero . Exit')\n",
    "        raise KeyboardInterrupt\n",
    "\n",
    "def mean(nums):\n",
    "    set_trace()   # This sets a break point.\n",
    "    bot = len(nums)\n",
    "    idx = 0\n",
    "    top = 0\n",
    "    while idx < len(nums):\n",
    "        top += nums[idx]\n",
    "    return top / bot\n",
    "\n",
    "a_list = [1, 2, 3, 4, 5, 6, 10, \"one hundred\"]\n",
    "avg = mean(a_list)\n",
    "print(avg)\n",
    "print('DONE!')\n",
    "# Won't run!\n",
    "#mean(a_list)"
   ]
  },
  {
   "cell_type": "code",
   "execution_count": null,
   "metadata": {},
   "outputs": [],
   "source": [
    "def mean(nums):\n",
    "    bot = len(nums)\n",
    "    idx = 0\n",
    "    top = 0\n",
    "    print(idx)\n",
    "    while idx < len(nums):\n",
    "        top += nums[idx]\n",
    "        idx += 1\n",
    "        print(idx)\n",
    "    return top / bot\n",
    "\n",
    "a_list = [1, 2, 3, 4, 5, 6, 10, \"one hundred\"]\n",
    "avg = mean(a_list)\n",
    "print(avg)\n",
    "print('DONE!')\n",
    "# Won't run!\n",
    "#mean(a_list)"
   ]
  },
  {
   "cell_type": "code",
   "execution_count": null,
   "metadata": {},
   "outputs": [],
   "source": [
    "def mean(nums):\n",
    "    bot = len(nums)\n",
    "    idx = 0\n",
    "    top = 0\n",
    "    print(idx)\n",
    "    while idx < len(nums):\n",
    "        top += nums[idx]\n",
    "        idx += 1\n",
    "        print(idx)\n",
    "    return top / bot\n",
    "\n",
    "a_list = [1, 2, 3, 4, 5, 6, 10, 100]\n",
    "avg = mean(a_list)\n",
    "print(avg)\n",
    "print('DONE!')\n"
   ]
  },
  {
   "cell_type": "code",
   "execution_count": null,
   "metadata": {},
   "outputs": [],
   "source": [
    "# cleanup and add a docstring -- you will be graded for style as well as functionality\n",
    "def mean(nums):\n",
    "    '''A function that calculates the mean of a list of numbers'''\n",
    "    bot = len(nums)\n",
    "    idx = 0\n",
    "    top = 0\n",
    "    while idx < bot:\n",
    "        top += nums[idx]\n",
    "        idx += 1\n",
    "    return top / bot\n",
    "\n",
    "a_list = [1, 2, 3, 4, 5, 6, 10, 100]\n",
    "avg = mean(a_list)\n",
    "print(avg)\n",
    "print('DONE!')"
   ]
  },
  {
   "cell_type": "markdown",
   "metadata": {},
   "source": [
    "## Breakout Excercise:  Use pdb to debug the program practice_pdb_series_expansion.py\n"
   ]
  },
  {
   "cell_type": "code",
   "execution_count": null,
   "metadata": {},
   "outputs": [],
   "source": [
    "'''\n",
    "    \n",
    "    Note: this is a series expansion, but a Taylor Series!\n",
    "    The usual Taylor series for log(1+x) has a converge range of -1<x<=1\n",
    "    This is based on ln(x) = sum( (1/n) ((x-1)/x)^n ) -- replacing x by x + 1, \n",
    "    we get the formula below.\n",
    "    \n",
    "    But it doesn't work.  Use set_trace(), step through the program, print out \n",
    "    the values of certain variables to help you figure out what the problem is.\n",
    "    \n",
    "'''\n",
    "\n",
    "\n",
    "from pdb import set_trace\n",
    "\n",
    "def L(x, n):\n",
    "    for i in range(1, n + 1):\n",
    "        approx += (1/(i+1))*(x/(1+x))**(i+1)\n",
    "    return approx\n",
    "\n",
    "\n",
    "x = 2\n",
    "approx = 0\n",
    "y = L(x, 100)\n",
    "print('Series Expansion Approximation:', y)\n",
    "from math import log  #you would guess math module would have log...yes!\n",
    "exact_val = log(1+x)\n",
    "print('exact_val', exact_val)\n",
    "from math import log1p  #more accurate for small x.\n",
    "print('log1p output', log1p(x))"
   ]
  },
  {
   "cell_type": "markdown",
   "metadata": {},
   "source": [
    "## Numerical Derivative"
   ]
  },
  {
   "cell_type": "code",
   "execution_count": 1,
   "metadata": {},
   "outputs": [
    {
     "name": "stdout",
     "output_type": "stream",
     "text": [
      "0.015625\n"
     ]
    }
   ],
   "source": [
    "def g(t):\n",
    "    return t**(-6)\n",
    "print(g(2))"
   ]
  },
  {
   "cell_type": "code",
   "execution_count": 18,
   "metadata": {},
   "outputs": [
    {
     "name": "stdout",
     "output_type": "stream",
     "text": [
      "-0.046866797968718454\n",
      "-0.046875\n"
     ]
    }
   ],
   "source": [
    "def der(x, dx= 0.0001):\n",
    "    #return -6*t**(-7)\n",
    "   # g(x)\n",
    "   # range(1,1000)\n",
    "   \n",
    "    dy = g(x+dx)-g(x)\n",
    "    return dy/dx\n",
    "\n",
    "der1 = der(2)\n",
    "print (der(2))\n",
    "#print(der(der1))\n",
    "print (-6*2**(-7))\n",
    "    "
   ]
  },
  {
   "cell_type": "code",
   "execution_count": null,
   "metadata": {},
   "outputs": [],
   "source": [
    "def dern(x, dx= 0.0001):\n",
    "   \n",
    "    dy = g(x+dx)-g(x)\n",
    "    return dy/dx\n"
   ]
  },
  {
   "cell_type": "markdown",
   "metadata": {},
   "source": [
    "## Mini-Breakout Exercise\n",
    "\n",
    "### 1. Find the value of g(t) at t = 2\n",
    "### 2. How do you compute the derivative of g(t) around t = 2?"
   ]
  },
  {
   "cell_type": "markdown",
   "metadata": {},
   "source": [
    "## Mini-breakout Exercise\n",
    "\n",
    "### Write a function deriv2() that computes the 2nd derivative of a function"
   ]
  },
  {
   "cell_type": "markdown",
   "metadata": {},
   "source": [
    "## Numerical Instability and Arbitrary Precision"
   ]
  },
  {
   "cell_type": "code",
   "execution_count": 25,
   "metadata": {},
   "outputs": [],
   "source": [
    "def deriv2(f,x,h=1e-6):\n",
    "    f_dblr = (f(x-h)-2*f(x) + f(x+h))/(h*h)\n",
    "    return f_dblr"
   ]
  },
  {
   "cell_type": "code",
   "execution_count": 26,
   "metadata": {},
   "outputs": [
    {
     "name": "stdout",
     "output_type": "stream",
     "text": [
      "h = 1e-01: 44.615\n",
      "h = 1e-02: 42.025\n",
      "h = 1e-03: 42\n",
      "h = 1e-04: 42\n",
      "h = 1e-05: 42\n",
      "h = 1e-06: 42.001\n",
      "h = 1e-07: 41.944\n",
      "h = 1e-08: 47.74\n",
      "h = 1e-09: -666.13\n",
      "h = 1e-10: 0\n",
      "h = 1e-11: 0\n",
      "h = 1e-12: -6.6613e+08\n",
      "h = 1e-13: 6.6613e+10\n",
      "h = 1e-14: 0\n"
     ]
    }
   ],
   "source": [
    "def g(t):\n",
    "    return t**(-6)\n",
    "\n",
    "\n",
    "for k in range(1, 15):\n",
    "    h = 10**(-k)\n",
    "    d2g = deriv2(g, 1, h)\n",
    "    print('h = {:.0e}: {:.5g}'.format(h, d2g))"
   ]
  },
  {
   "cell_type": "code",
   "execution_count": 27,
   "metadata": {},
   "outputs": [
    {
     "name": "stdout",
     "output_type": "stream",
     "text": [
      "h = 1e-01: 44.615\n",
      "h = 1e-02: 42.025\n",
      "h = 1e-03: 42.000\n",
      "h = 1e-04: 42.000\n",
      "h = 1e-05: 42.000\n",
      "h = 1e-06: 42.000\n",
      "h = 1e-07: 42.000\n",
      "h = 1e-08: 42.000\n",
      "h = 1e-09: 42.000\n",
      "h = 1e-10: 42.000\n",
      "h = 1e-11: 42.000\n",
      "h = 1e-12: 42.000\n",
      "h = 1e-13: 42.000\n",
      "h = 1e-14: 42.00\n"
     ]
    }
   ],
   "source": [
    "'''\n",
    "To get everything right use arbitrary precision\n",
    "this is a lazy approach; works, but may not be the fastest way.\n",
    "'''\n",
    "\n",
    "import decimal                  # floats with arbitrarily many digits\n",
    "decimal.getcontext().prec = 30  # use 25 digits\n",
    "D = decimal.Decimal             # short form for new float type\n",
    "\n",
    "def deriv2(f, x, h=1e-9):\n",
    "    x = D(str(x));  h = D(str(h))  # convert to high precision\n",
    "    f_dblpr = (f(x-h) - 2*f(x) + f(x+h))/(h*h)\n",
    "    return f_dblpr\n",
    "\n",
    "for k in range(1,15):\n",
    "    h = 10**(-k)\n",
    "    print('h = {:.0e}: {:.5g}'.format(h, deriv2(g, 1, h)))"
   ]
  },
  {
   "cell_type": "markdown",
   "metadata": {},
   "source": [
    "## lambda function"
   ]
  },
  {
   "cell_type": "code",
   "execution_count": null,
   "metadata": {},
   "outputs": [],
   "source": [
    "gfunc = lambda x : x**-6"
   ]
  },
  {
   "cell_type": "code",
   "execution_count": null,
   "metadata": {},
   "outputs": [],
   "source": [
    "# these two are equivalent \n",
    "\n",
    "func = lambda x: x**2 + 4\n",
    "\n",
    "def f(x):\n",
    "    return x**2 + 4\n",
    "\n",
    "# Generally speaking, don't define a function inside \n",
    "# another function, except for when it's short.\n",
    "# And preferrably, use the lambda function\n",
    "\n",
    "print(func(3))\n",
    "print(f(3))"
   ]
  },
  {
   "cell_type": "markdown",
   "metadata": {},
   "source": [
    "## Mini-breakout Exercise:\n",
    "- ### Write the function g() above using lambda function -- call it g_lamb().\n",
    "- ### Test and see if it gives you the same results as g()"
   ]
  },
  {
   "cell_type": "code",
   "execution_count": null,
   "metadata": {
    "collapsed": true
   },
   "outputs": [],
   "source": [
    "# Compact if statement\n",
    "x = 3\n",
    "a = 2 if x < 1 else 0"
   ]
  },
  {
   "cell_type": "code",
   "execution_count": 28,
   "metadata": {},
   "outputs": [
    {
     "name": "stdout",
     "output_type": "stream",
     "text": [
      "0.9974949866040544\n",
      "0\n"
     ]
    }
   ],
   "source": [
    "# more sophisticated usage of lambda function:\n",
    "from math import pi, sin\n",
    "x = 1.5\n",
    "f = lambda x: sin(x) if 0 <= x <= 2*pi else 0\n",
    "print(f(x))\n",
    "print(f(7))"
   ]
  },
  {
   "cell_type": "markdown",
   "metadata": {},
   "source": [
    "## Doctest\n",
    "\n",
    "### Doctest example: See deriv_doctest.py\n"
   ]
  },
  {
   "cell_type": "markdown",
   "metadata": {},
   "source": [
    "## Breakout Exercise\n",
    "\n",
    "- ### Write a function that computes the factorial of an integer.\n",
    "- ### There should be a doctest that tests the factorials of 4.\n",
    "- ### Change (and improve) the doctest so that it tests the factorials of 0, 1, 2, 3, 4, 5 -- use list comprehension"
   ]
  },
  {
   "cell_type": "markdown",
   "metadata": {},
   "source": [
    "## End of Week3-1"
   ]
  }
 ],
 "metadata": {
  "kernelspec": {
   "display_name": "Python 3",
   "language": "python",
   "name": "python3"
  },
  "language_info": {
   "codemirror_mode": {
    "name": "ipython",
    "version": 3
   },
   "file_extension": ".py",
   "mimetype": "text/x-python",
   "name": "python",
   "nbconvert_exporter": "python",
   "pygments_lexer": "ipython3",
   "version": "3.7.4"
  }
 },
 "nbformat": 4,
 "nbformat_minor": 1
}
