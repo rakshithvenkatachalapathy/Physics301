{
 "cells": [
  {
   "cell_type": "markdown",
   "metadata": {},
   "source": [
    "# Topics\n",
    "\n",
    "## 1. Lists and Index Slicing"
   ]
  },
  {
   "cell_type": "markdown",
   "metadata": {},
   "source": [
    "## List Comprehesion: compact syntax for creating a new list out of an existing list:\n",
    "\\>>>newlist = [f(e) for e in list]\n",
    "\n",
    "f: an operation on e."
   ]
  },
  {
   "cell_type": "code",
   "execution_count": null,
   "metadata": {},
   "outputs": [],
   "source": [
    "## Example of List Comprehension\n",
    "n = 10\n",
    "lst = range(n)\n",
    "lst_sqd = [i**2  for i in lst]   \n",
    "print(lst)\n",
    "print(lst_sqd)"
   ]
  },
  {
   "cell_type": "code",
   "execution_count": null,
   "metadata": {},
   "outputs": [],
   "source": [
    "Cdegrees = range(0, 101, 20)\n",
    "Fdegrees = [(9/5)*c + 32 for c in Cdegrees]\n",
    "table1 = [Cdegrees, Fdegrees]\n",
    "print('Cedgrees:', Cdegrees)\n",
    "print('Fdegrees:', Fdegrees)\n",
    "print('table1:', table1)\n",
    "print(type(table1))  #a nested list"
   ]
  },
  {
   "cell_type": "markdown",
   "metadata": {},
   "source": [
    "## Breakout Exercise: \n",
    "\n",
    "- ### Create a list of 11 time values, t, between 0 and 1 with an increment of 0.1 sec, using list comprehension\n",
    "\n",
    "- ### Compute and create a list of y values (height) that corresponds to the times in the list above.  Assume initial velocity is 5.\n",
    "\n",
    "- ### Make a list that consists of 11 tuples of (t, y), where y is the height at time t.\n",
    "\n",
    "- ### print each pair of y and t using list comprehension to produce the following output:\n",
    "\n",
    "\n",
    "    Height = 0.0 m at t = 0.0 sec\n",
    "    Height = 0.5 m at t = 0.1 sec\n",
    "    Height = 0.8 m at t = 0.2 sec\n",
    "    Height = 1.1 m at t = 0.3 sec\n",
    "    Height = 1.2 m at t = 0.4 sec\n",
    "    Height = 1.3 m at t = 0.5 sec\n",
    "    Height = 1.2 m at t = 0.6 sec\n",
    "    Height = 1.1 m at t = 0.7 sec\n",
    "    Height = 0.9 m at t = 0.8 sec\n",
    "    Height = 0.5 m at t = 0.9 sec\n",
    "    Height = 0.1 m at t = 1.0 sec"
   ]
  },
  {
   "cell_type": "code",
   "execution_count": null,
   "metadata": {},
   "outputs": [],
   "source": [
    "lst = range(5)\n",
    "print(lst)\n",
    "print(lst[0], lst[1], lst[2], lst[3], lst[4])\n",
    "# or you can do\n",
    "# print(*lst)"
   ]
  },
  {
   "cell_type": "code",
   "execution_count": null,
   "metadata": {},
   "outputs": [],
   "source": [
    "'''You can use the unpacking operator for arguments in a function call'''\n",
    "print(range(3, 6))             # normal call with separate arguments\n",
    "range_params = [3, 6]\n",
    "print(range(*range_params))            # call with arguments unpacked from a list\n",
    "range_params = 3, 6\n",
    "print(range(*range_params))            # call with arguments unpacked from a tuple\n",
    "print(range(range_params))\n",
    "# Explain why print range(range_params) won't work??"
   ]
  },
  {
   "cell_type": "code",
   "execution_count": null,
   "metadata": {},
   "outputs": [],
   "source": [
    "def f(x):\n",
    "    return x, x**2, x**4\n",
    "\n",
    "# All four of the following are valid.\n",
    "(x, x2, x4) = f(3)  # a tuple, each value is received into a separate variable \n",
    "print(x, x2, x4)\n",
    "x, x2, x4 = f(3)    # a tuple doesn't have to have ()\n",
    "print(x, x2, x4)\n",
    "[x, x2, x4] = f(3)  # a tuple. type mismatch, but python made it work.\n",
    "print(x, x2, x4)\n",
    "X = f(3)            # X is the entire tuple\n",
    "print(X)\n",
    "# Or do is this way -- advantage: you can format each entry in printing.\n",
    "print(X[0], X[1], X[2])\n",
    "\n",
    "print('printing using the \"unpack\" operator:')\n",
    "#Or this way\n",
    "print(*X)"
   ]
  },
  {
   "cell_type": "markdown",
   "metadata": {},
   "source": [
    "## Global vs. Local Variables"
   ]
  },
  {
   "cell_type": "code",
   "execution_count": null,
   "metadata": {
    "collapsed": true
   },
   "outputs": [],
   "source": [
    "def F2(C):\n",
    "    # C: example of a \"local variable\", which loses it meaning outside of the function F2\n",
    "    F_value = (9.0/5)*C + 32.  \n",
    "    print('C inside F2 = ', C)\n",
    "    return '{:.1f} degrees Celsius corresponds to '\\\n",
    "            '{:.1f} degress Fehrehheit'.format(C, F_value)"
   ]
  },
  {
   "cell_type": "code",
   "execution_count": null,
   "metadata": {},
   "outputs": [],
   "source": [
    "C = 89\n",
    "print(\"C outside F2 = \", C)\n",
    "s1 = F2(21)\n",
    "\n",
    "# I now change only the value but also the type of C, which is now a string.\n",
    "C = s1  \n",
    "print(\"C outside F2 = \", C)"
   ]
  },
  {
   "cell_type": "markdown",
   "metadata": {},
   "source": [
    "### If one in facts wants to change the value of the global variable, then the way to do it is one has to explicitly declare a as a global variable, as shown in the example below:"
   ]
  },
  {
   "cell_type": "code",
   "execution_count": null,
   "metadata": {},
   "outputs": [],
   "source": [
    "a = 3 \n",
    "print(\"Outside f(), a = \", a)\n",
    "def f():\n",
    "    # a: example of a \"local variable\", \n",
    "    # which loses it meaning outside of the function f().\n",
    "    a = 2  \n",
    "    print(\"Inside f, a = \", a)\n",
    "    return \n",
    "\n",
    "f()  \n",
    "print(\"Outside F3, a = \", a)"
   ]
  },
  {
   "cell_type": "code",
   "execution_count": null,
   "metadata": {},
   "outputs": [],
   "source": [
    "'''\n",
    "Identical to cell above but with this statement \n",
    "    \n",
    ">>> global a \n",
    "\n",
    "added in the function.\n",
    "'''\n",
    "a = 3 \n",
    "print(\"Outside f(), before function call, a = \", a)\n",
    "def f():\n",
    "    global a\n",
    "    a = 2  \n",
    "    print(\"Inside f(), a = \", a)\n",
    "    return \n",
    "\n",
    "f()  \n",
    "print(\"Outside f(), after function call, a = \", a)"
   ]
  },
  {
   "cell_type": "code",
   "execution_count": null,
   "metadata": {},
   "outputs": [],
   "source": [
    "'''\n",
    "In this example, a is referenced (instead of being assigned) in f().  \n",
    "\n",
    "- Python looks for an assignment statement for the variable a in f() and doesn't find it;\n",
    "- then *assumes* it's a global variable and looks for it outside f();\n",
    "- finds it outside f() and assigns the global value of a to the a in f().\n",
    "\n",
    "IMPORTANT LESSON:\n",
    "\n",
    "If you don't intend to define another a, but merely references a, then you DON'T have to \n",
    "declare a as a global variable; Python will assume that is the case.\n",
    "\n",
    "'''\n",
    "\n",
    "a = 3 \n",
    "print(\"Outside f(), before function call, a = \", a)\n",
    "def f():\n",
    "    b = 3\n",
    "    d = 1/a\n",
    "    print(\"Inside f(), a = \", a)\n",
    "    return\n",
    "\n",
    "f()   \n",
    "print(\"Outside f(), after function call, a = \", a)"
   ]
  },
  {
   "cell_type": "code",
   "execution_count": null,
   "metadata": {},
   "outputs": [],
   "source": [
    "'''\n",
    "\n",
    "Can you predict what you will get if you execute the following block of statements?\n",
    "\n",
    "'''\n",
    "\n",
    "a = 3 \n",
    "print(\"Outside f(), before function call, a = \", a)\n",
    "def f():\n",
    "    b = 3\n",
    "    # Note only the statement below is different from the cell above.\n",
    "    a = 1./a\n",
    "    print(\"Inside f(), a = \", a)\n",
    "    return\n",
    "\n",
    "f()   \n",
    "print(\"Outside f(), after function call, a = \", a)"
   ]
  },
  {
   "cell_type": "markdown",
   "metadata": {},
   "source": [
    "### For Python this is too confusing: It's OK to have another variable a in f().  But to execute \n",
    "\n",
    "\n",
    "      >>> a = 1/a\n",
    "\n",
    "## Python has to know what the a on the RHS is.  Since there is no assignment statement before this one, Python has to assume it's the global a.  This means, NOW YOU ARE TRYING TO CHANGE THE VALUE OF THE GLOBAL a WITHOUT DECLARE a AS A GLOBAL VARIABLE!  "
   ]
  },
  {
   "cell_type": "markdown",
   "metadata": {},
   "source": [
    "## How do you fix it?"
   ]
  },
  {
   "cell_type": "markdown",
   "metadata": {},
   "source": [
    "## Magic Functions (line magic vs. cell magic) in IPython"
   ]
  },
  {
   "cell_type": "code",
   "execution_count": null,
   "metadata": {},
   "outputs": [],
   "source": [
    "'''The following two magic functions can be quite useful in code development'''\n",
    "\n",
    "# line magic\n",
    "%timeit range(1000)"
   ]
  },
  {
   "cell_type": "code",
   "execution_count": null,
   "metadata": {},
   "outputs": [],
   "source": [
    "%%timeit \n",
    "x = range(1000)\n",
    "y = sum(x)\n",
    "\n",
    "# IPython bug: to use timeit as cell magic, no comment allowed above the line %%timeit ..."
   ]
  },
  {
   "cell_type": "markdown",
   "metadata": {},
   "source": [
    "## Breakout Exercise: \n",
    "\n",
    "### Write a function makelist(start, end, inc) that makes a list between start (inclusive) and end (exclusive) with increment = inc."
   ]
  },
  {
   "cell_type": "code",
   "execution_count": null,
   "metadata": {},
   "outputs": [],
   "source": [
    "%timeit y = makelist(0, 101, 2)\n",
    "\n",
    "%timeit y = range(0, 101, 2)\n"
   ]
  },
  {
   "cell_type": "code",
   "execution_count": null,
   "metadata": {},
   "outputs": [],
   "source": [
    "%%timeit y = range(100)"
   ]
  },
  {
   "cell_type": "code",
   "execution_count": null,
   "metadata": {},
   "outputs": [],
   "source": [
    "max(list(y))"
   ]
  },
  {
   "cell_type": "markdown",
   "metadata": {},
   "source": [
    "## Breakout Excercise, write a function Lxplus1() in two steps:\n",
    "\n",
    "### A) It computes the approximate value of log(1 + x) by using \n",
    "\n",
    "$$ log(1 + x) \\approx \\sum_{n = 1}^{N}  \\frac{1}{n} \\left( \\frac{x}{1 + x} \\right)^n  $$\n",
    "\n",
    "(Based on $$log(x) \\approx \\sum_{n = 1}^{N}  \\frac{1}{n} \\left( \\frac{x - 1}{x} \\right)^n $$ replacing x with x + 1.)\n",
    "\n",
    "### i) The function should take a positional argument, x, and a keyword argument N, whose default value should be 100\n",
    "\n",
    "### ii) Compare your result with two built-in functions math.log() and math.log1p() -- you may google to see what each does.\n",
    "\n",
    "\n",
    "\n",
    "### B) Deal with two caveats: \n",
    "\n",
    "### 1. for x < -1, the function is not defined and the series approximation gives a *bogus* answer!!!!  (try it)\n",
    "### 2. for large x (say x = 100, N needs to be > 100 to get a precise value)\n",
    "\n",
    "\n",
    "### C) Use the %timeit magic to compare the speed of your function with math.log() and math.log1p()\n",
    "\n",
    "Note: this is a series expansion, but NOT a Taylor Series!\n",
    "The usual Taylor series for log(1+x) has a converge range of -1<x<=1\n",
    "This is based on ln(x) = sum( (1/n) ((x-1)/x)^n ) -- replacing x by x + 1, \n",
    "we get the formula above.\n"
   ]
  },
  {
   "cell_type": "code",
   "execution_count": null,
   "metadata": {},
   "outputs": [],
   "source": [
    "# try x = -2\n",
    "# ...this is why human supervision is still needed!!!\n",
    "Lxplus1(-2)"
   ]
  },
  {
   "cell_type": "markdown",
   "metadata": {},
   "source": [
    "## End of week 2-3"
   ]
  }
 ],
 "metadata": {
  "kernelspec": {
   "display_name": "Python 3",
   "language": "python",
   "name": "python3"
  },
  "language_info": {
   "codemirror_mode": {
    "name": "ipython",
    "version": 3
   },
   "file_extension": ".py",
   "mimetype": "text/x-python",
   "name": "python",
   "nbconvert_exporter": "python",
   "pygments_lexer": "ipython3",
   "version": "3.6.2"
  }
 },
 "nbformat": 4,
 "nbformat_minor": 1
}
