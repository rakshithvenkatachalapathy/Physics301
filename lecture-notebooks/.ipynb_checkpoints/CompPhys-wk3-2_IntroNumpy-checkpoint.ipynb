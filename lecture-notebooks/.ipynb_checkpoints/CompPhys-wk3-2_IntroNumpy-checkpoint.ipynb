{
 "cells": [
  {
   "cell_type": "markdown",
   "metadata": {},
   "source": [
    "# Topics\n",
    "\n",
    "## 1. Representation Errors\n",
    "## 2. Arrays and Numpy\n",
    "## 3. Matplotlib"
   ]
  },
  {
   "cell_type": "code",
   "execution_count": 2,
   "metadata": {
    "collapsed": true
   },
   "outputs": [],
   "source": [
    "import math\n",
    "\n",
    "# New import.  Typically:\n",
    "import numpy as np\n"
   ]
  },
  {
   "cell_type": "markdown",
   "metadata": {},
   "source": [
    "- Can save code in notebook as .py: File --> Download as-->Python(.py)\n",
    "\n",
    "- How to write raw text (instead of code) in cells."
   ]
  },
  {
   "cell_type": "markdown",
   "metadata": {},
   "source": [
    "## Representation Error\n",
    "\n",
    "- ### 1/3 does NOT have an exact representation in the digital system using a finite number of digits\n",
    "\n",
    "- ### 0.1 does NOT have an exact representation in the digital system using a finite number of bits"
   ]
  },
  {
   "cell_type": "code",
   "execution_count": 5,
   "metadata": {},
   "outputs": [
    {
     "data": {
      "text/plain": [
       "True"
      ]
     },
     "execution_count": 5,
     "metadata": {},
     "output_type": "execute_result"
    }
   ],
   "source": [
    "# check this out:\n",
    "0.10000000000000001 == 0.1"
   ]
  },
  {
   "cell_type": "code",
   "execution_count": 6,
   "metadata": {},
   "outputs": [
    {
     "data": {
      "text/plain": [
       "'0.1000000000'"
      ]
     },
     "execution_count": 6,
     "metadata": {},
     "output_type": "execute_result"
    }
   ],
   "source": [
    "format(0.1, '.10f')"
   ]
  },
  {
   "cell_type": "code",
   "execution_count": 7,
   "metadata": {},
   "outputs": [
    {
     "data": {
      "text/plain": [
       "'0.1000000000000000'"
      ]
     },
     "execution_count": 7,
     "metadata": {},
     "output_type": "execute_result"
    }
   ],
   "source": [
    "format(0.1, '.16f')"
   ]
  },
  {
   "cell_type": "code",
   "execution_count": 9,
   "metadata": {},
   "outputs": [
    {
     "data": {
      "text/plain": [
       "'0.1000000000000000055511'"
      ]
     },
     "execution_count": 9,
     "metadata": {},
     "output_type": "execute_result"
    }
   ],
   "source": [
    "# below you will see why you get about 16 significant figures that are accurate, \n",
    "# but not beyond.\n",
    "format(0.1, '.22f')"
   ]
  },
  {
   "cell_type": "markdown",
   "metadata": {},
   "source": [
    "## These days, usually one doesn't have to worry about it.  \n",
    "\n",
    "### For more:\n",
    "\n",
    "https://docs.python.org/3/tutorial/floatingpoint.html#representation-error\n",
    "\n",
    "\"Almost all machines today (November 2000) use IEEE-754 floating point arithmetic, and almost all platforms map Python floats to IEEE-754 “double precision”. 754 doubles contain 53 bits of precision\"\n",
    "\n",
    "### 2^53 ~ 1e16 --> this roughly translates to 16 significant figures of accurarcy\n",
    "\n",
    "******\n",
    "From https://docs.scipy.org/doc/numpy/user/basics.types.html\n",
    "\n",
    "\"float64\tDouble precision float: sign bit, 11 bits exponent, 52 bits mantissa\"\n",
    "\n",
    "Then it sounds like it should be 52 bits of precision??\n",
    "\n"
   ]
  },
  {
   "cell_type": "markdown",
   "metadata": {},
   "source": [
    "## Numpy Arrays"
   ]
  },
  {
   "cell_type": "markdown",
   "metadata": {},
   "source": [
    "An array object can be viewed as a variant of a list, but with the following assumptions and features: \n",
    "\n",
    "• All elements must be of the same type, usually integers, real or complex numbers, or strings, for efficient numerical computing and storage. \n",
    "\n",
    "• The number of elements must be known when the array is created. \n",
    "\n",
    "• Arrays are not part of standard Python - one needs an additional package called Numerical Python, often abbreviated as NumPy. The Python name of the package, to be used in import statements, is numpy. \n",
    "\n",
    "• With numpy, a wide range of mathematical operations can be done on the entire array, thereby removing the need for loops over array elements. This is commonly called vectorization and may cause a dramatic speed-up of Python programs (and greatly enhance the readability of your code). \n",
    "\n",
    "• Arrays with one index are often called vectors. Arrays with two indices are used as an efficient data structure for tables, instead of lists of lists. Arrays can also have three or more indices.\n"
   ]
  },
  {
   "cell_type": "code",
   "execution_count": 10,
   "metadata": {},
   "outputs": [
    {
     "data": {
      "text/plain": [
       "False"
      ]
     },
     "execution_count": 10,
     "metadata": {},
     "output_type": "execute_result"
    }
   ],
   "source": [
    "(0.1 + 0.1 + 0.1) == 0.3"
   ]
  },
  {
   "cell_type": "code",
   "execution_count": 11,
   "metadata": {},
   "outputs": [
    {
     "name": "stdout",
     "output_type": "stream",
     "text": [
      "0.3\n",
      "0.3\n",
      "False\n"
     ]
    }
   ],
   "source": [
    "# same representation error for numpy\n",
    "arr2 = np.array([0.1, 0.1, 0.1, 0.3])\n",
    "sum0to2 = arr2[0] + arr2[1] + arr2[2] \n",
    "elem3 = arr2[3]\n",
    "\n",
    "print(sum0to2)\n",
    "print(elem3)\n",
    "print(sum0to2 == elem3)"
   ]
  },
  {
   "cell_type": "markdown",
   "metadata": {},
   "source": [
    "## Numpy vs. List Comprehension.  Numpy is\n",
    "\n",
    "- ### Faster\n",
    "- ### Syntactically more intuitive"
   ]
  },
  {
   "cell_type": "code",
   "execution_count": 12,
   "metadata": {},
   "outputs": [
    {
     "name": "stdout",
     "output_type": "stream",
     "text": [
      "<class 'range'> <class 'numpy.ndarray'>\n",
      "[ 1  2  3  4  5  6  7  8  9 10 11 12 13 14 15 16 17 18 19 20 21 22 23 24 25\n",
      " 26 27 28 29 30 31 32 33 34 35 36 37 38 39 40 41 42 43 44 45 46 47 48 49 50\n",
      " 51 52 53 54 55 56 57 58 59 60 61 62 63 64 65 66 67 68 69 70 71 72 73 74 75\n",
      " 76 77 78 79 80 81 82 83 84 85 86 87 88 89 90 91 92 93 94 95 96 97 98 99]\n"
     ]
    }
   ],
   "source": [
    "# turning a list into a numpy array\n",
    "r = range(1, 100)\n",
    "a = np.array(r)   # a is an array; or in the CS lingo: a vector.\n",
    "print(type(r), type(a))\n",
    "print(a)"
   ]
  },
  {
   "cell_type": "code",
   "execution_count": 13,
   "metadata": {},
   "outputs": [
    {
     "name": "stdout",
     "output_type": "stream",
     "text": [
      "11.1 µs ± 264 ns per loop (mean ± std. dev. of 7 runs, 100000 loops each)\n"
     ]
    }
   ],
   "source": [
    "%timeit [math.sin(x) for x in r]"
   ]
  },
  {
   "cell_type": "code",
   "execution_count": 14,
   "metadata": {},
   "outputs": [
    {
     "name": "stdout",
     "output_type": "stream",
     "text": [
      "1.91 µs ± 79.7 ns per loop (mean ± std. dev. of 7 runs, 100000 loops each)\n"
     ]
    }
   ],
   "source": [
    "%timeit np.sin(a)"
   ]
  },
  {
   "cell_type": "markdown",
   "metadata": {},
   "source": [
    "## Useful Numpy Functions"
   ]
  },
  {
   "cell_type": "code",
   "execution_count": 16,
   "metadata": {},
   "outputs": [
    {
     "name": "stdout",
     "output_type": "stream",
     "text": [
      "[ 0.  0.  0.  0.  0.  0.  0.  0.  0.  0.] <class 'numpy.ndarray'>\n"
     ]
    }
   ],
   "source": [
    "b = np.zeros(10)  \n",
    "print(b, type(b))"
   ]
  },
  {
   "cell_type": "code",
   "execution_count": 15,
   "metadata": {},
   "outputs": [
    {
     "name": "stdout",
     "output_type": "stream",
     "text": [
      "[ 1.  1.  1.  1.  1.  1.  1.  1.  1.  1.] <class 'numpy.ndarray'>\n"
     ]
    }
   ],
   "source": [
    "c = np.ones(10)  \n",
    "print(c, type(c))"
   ]
  },
  {
   "cell_type": "code",
   "execution_count": 17,
   "metadata": {},
   "outputs": [
    {
     "name": "stdout",
     "output_type": "stream",
     "text": [
      "[  1.    1.6   2.2   2.8   3.4   4.    4.6   5.2   5.8   6.4   7.    7.6\n",
      "   8.2   8.8   9.4  10.   10.6  11.2  11.8  12.4] <class 'numpy.ndarray'>\n",
      "20\n"
     ]
    }
   ],
   "source": [
    "# note: linspace is inclusive at BOTH ends\n",
    "d = np.linspace(1, 12.4, 20)\n",
    "print(d, type(d))\n",
    "print(len(d))"
   ]
  },
  {
   "cell_type": "code",
   "execution_count": 18,
   "metadata": {},
   "outputs": [
    {
     "name": "stdout",
     "output_type": "stream",
     "text": [
      "0.0\n",
      "[ 0.  0.  1.  0.  0.  0.  0.  0.  0.  0.]\n"
     ]
    }
   ],
   "source": [
    "# accessing an individual element of an array\n",
    "a = np.zeros(10)\n",
    "print(a[3])\n",
    "a[2] = 1\n",
    "print(a)"
   ]
  },
  {
   "cell_type": "markdown",
   "metadata": {},
   "source": [
    "## Array Index Slicing (just like for lists)"
   ]
  },
  {
   "cell_type": "code",
   "execution_count": 19,
   "metadata": {},
   "outputs": [
    {
     "name": "stdout",
     "output_type": "stream",
     "text": [
      "[0 1 2 3 4 5 6 7 8 9]\n",
      "[1 2 3 4 5 6 7 8]\n"
     ]
    }
   ],
   "source": [
    "a = np.array(range(10))\n",
    "b = a[1:-1]\n",
    "print(a)\n",
    "print(b)"
   ]
  },
  {
   "cell_type": "markdown",
   "metadata": {},
   "source": [
    "## Mini-breakout Exercise\n",
    "\n",
    "### Initialize a numpy array of 100 evenly distributed numbers between 0.1 and 2 (inclusive); call it x.\n",
    "- ### For all the values in x, find $$y = e^x$$\n",
    "\n",
    "### call the resulting array y.\n",
    "  \n",
    "\n",
    "\n",
    "- ### Print the arrays x and y."
   ]
  },
  {
   "cell_type": "code",
   "execution_count": 20,
   "metadata": {},
   "outputs": [
    {
     "name": "stdout",
     "output_type": "stream",
     "text": [
      "[ 0.1         0.11919192  0.13838384  0.15757576  0.17676768  0.1959596\n",
      "  0.21515152  0.23434343  0.25353535  0.27272727  0.29191919  0.31111111\n",
      "  0.33030303  0.34949495  0.36868687  0.38787879  0.40707071  0.42626263\n",
      "  0.44545455  0.46464646  0.48383838  0.5030303   0.52222222  0.54141414\n",
      "  0.56060606  0.57979798  0.5989899   0.61818182  0.63737374  0.65656566\n",
      "  0.67575758  0.69494949  0.71414141  0.73333333  0.75252525  0.77171717\n",
      "  0.79090909  0.81010101  0.82929293  0.84848485  0.86767677  0.88686869\n",
      "  0.90606061  0.92525253  0.94444444  0.96363636  0.98282828  1.0020202\n",
      "  1.02121212  1.04040404  1.05959596  1.07878788  1.0979798   1.11717172\n",
      "  1.13636364  1.15555556  1.17474747  1.19393939  1.21313131  1.23232323\n",
      "  1.25151515  1.27070707  1.28989899  1.30909091  1.32828283  1.34747475\n",
      "  1.36666667  1.38585859  1.40505051  1.42424242  1.44343434  1.46262626\n",
      "  1.48181818  1.5010101   1.52020202  1.53939394  1.55858586  1.57777778\n",
      "  1.5969697   1.61616162  1.63535354  1.65454545  1.67373737  1.69292929\n",
      "  1.71212121  1.73131313  1.75050505  1.76969697  1.78888889  1.80808081\n",
      "  1.82727273  1.84646465  1.86565657  1.88484848  1.9040404   1.92323232\n",
      "  1.94242424  1.96161616  1.98080808  2.        ]\n",
      "[ 1.10517092  1.12658611  1.14841627  1.17066944  1.19335382  1.21647775\n",
      "  1.24004977  1.26407855  1.28857293  1.31354196  1.33899481  1.36494087\n",
      "  1.3913897   1.41835103  1.4458348   1.47385112  1.50241033  1.53152294\n",
      "  1.56119967  1.59145146  1.62228944  1.65372497  1.68576965  1.71843526\n",
      "  1.75173384  1.78567765  1.82027921  1.85555124  1.89150676  1.92815899\n",
      "  1.96552144  2.00360788  2.04243233  2.08200908  2.12235273  2.16347813\n",
      "  2.20540042  2.24813506  2.29169777  2.33610462  2.38137194  2.42751642\n",
      "  2.47455506  2.52250518  2.57138443  2.62121084  2.67200274  2.72377886\n",
      "  2.77655825  2.83036036  2.88520501  2.9411124   2.99810313  3.05619818\n",
      "  3.11541895  3.17578725  3.23732533  3.30005585  3.36400192  3.42918709\n",
      "  3.49563536  3.56337123  3.63241963  3.70280599  3.77455626  3.84769685\n",
      "  3.9222547   3.99825728  4.07573258  4.15470914  4.23521606  4.31728297\n",
      "  4.40094012  4.48621832  4.57314897  4.6617641   4.75209636  4.844179\n",
      "  4.93804595  5.03373179  5.13127176  5.23070179  5.3320585   5.43537923\n",
      "  5.54070203  5.64806569  5.75750978  5.86907458  5.98280122  6.09873156\n",
      "  6.21690831  6.33737501  6.46017602  6.58535659  6.7129628   6.84304168\n",
      "  6.97564113  7.11081     7.24859807  7.3890561 ]\n"
     ]
    }
   ],
   "source": [
    "'''Breakout Solution'''\n",
    "x = np.linspace(0.1, 2, 100)\n",
    "y = np.exp(x)\n",
    "print(x)\n",
    "print(y)"
   ]
  },
  {
   "cell_type": "markdown",
   "metadata": {},
   "source": [
    "## If there's time -- potentially move this to CP-II...\n",
    "## More on slicing:\n",
    "\n",
    "## a) For a multidimensional array, what's the difference between [:] and [:][:]?\n",
    "## b) The ellipses(...)"
   ]
  },
  {
   "cell_type": "code",
   "execution_count": 78,
   "metadata": {},
   "outputs": [
    {
     "name": "stdout",
     "output_type": "stream",
     "text": [
      "(2, 3)\n",
      "x\n",
      " [[1 2 3]\n",
      " [4 5 6]]\n",
      "x[:]\n",
      " [[1 2 3]\n",
      " [4 5 6]]\n",
      "x[:][:]\n",
      " [[1 2 3]\n",
      " [4 5 6]]\n"
     ]
    }
   ],
   "source": [
    "'''\n",
    "[:] vs. [:][:] for mutlidimensional array\n",
    "'''\n",
    "\n",
    "\n",
    "x = np.array([[1,2,3], [4,5,6]])\n",
    "print(x.shape)\n",
    "\n",
    "print('x\\n', x)\n",
    "print\n",
    "print('x[:]\\n', x[:])\n",
    "print\n",
    "print('x[:][:]\\n', x[:][:])"
   ]
  },
  {
   "cell_type": "code",
   "execution_count": 42,
   "metadata": {},
   "outputs": [
    {
     "data": {
      "text/plain": [
       "array([4, 5, 6])"
      ]
     },
     "execution_count": 42,
     "metadata": {},
     "output_type": "execute_result"
    }
   ],
   "source": [
    "'''\n",
    "Moreover, x[:][1] does NOT do what you might think:\n",
    "\n",
    "it does NOT keep the all rows and select the second column.\n",
    "\n",
    "[:] instructs python to keep everything.  Then [1] instructs python to pick the 1st row!!\n",
    "\n",
    "'''\n",
    "\n",
    "x[:][1]"
   ]
  },
  {
   "cell_type": "code",
   "execution_count": 79,
   "metadata": {},
   "outputs": [
    {
     "name": "stdout",
     "output_type": "stream",
     "text": [
      "First column of x\n",
      " [2 5]\n",
      "First column of x\n",
      " [2 5]\n"
     ]
    }
   ],
   "source": [
    "'''\n",
    "Thus, you can select the first row easily (x[1]), but not the first column.\n",
    "\n",
    "You can do x[:, 1]\n",
    "\n",
    "But there's an easier way.\n",
    "\n",
    "Introduce the ellipses (...)\n",
    "\n",
    "\"Ellipsis expand to the number of : objects needed to make a selection tuple of the same length as x.ndim.\n",
    "There may only be a single ellipsis present [i.e., you can't have x[..., 0, ...].\"\n",
    "\n",
    "\n",
    "'''\n",
    "\n",
    "print('First column of x\\n', x[:,1])\n",
    "\n",
    "print('First column of x\\n', x[...,1])"
   ]
  },
  {
   "cell_type": "markdown",
   "metadata": {},
   "source": [
    "## The ellipsis makes it possible to make the intuitive slicing of a multidimensional array easier."
   ]
  },
  {
   "cell_type": "code",
   "execution_count": 85,
   "metadata": {},
   "outputs": [
    {
     "name": "stdout",
     "output_type": "stream",
     "text": [
      "Original 3D array\n",
      " [[[1]\n",
      "  [2]\n",
      "  [3]]\n",
      "\n",
      " [[4]\n",
      "  [5]\n",
      "  [6]]]\n",
      "with shape: (2, 3, 1) \n",
      "\n",
      "The following three lines will give the same results: selecting the 0th slice of the first index\n",
      "x[..., 0, :, :]\n",
      " [[1]\n",
      " [2]\n",
      " [3]]\n",
      "x[0,...]\n",
      " [[1]\n",
      " [2]\n",
      " [3]]\n",
      "x[0]\n",
      " [[1]\n",
      " [2]\n",
      " [3]]\n",
      "\n",
      "This is made easier with ..., because it deals with the 3rd (and last) index:\n",
      "The following three lines will give the same results: selecting the 0th slice of the 3rd index\n",
      "x[:,:,0]\n",
      " [[1 2 3]\n",
      " [4 5 6]]\n",
      "x[...,0]\n",
      " [[1 2 3]\n",
      " [4 5 6]]\n",
      "x[...,:, :, 0]\n",
      " [[1 2 3]\n",
      " [4 5 6]]\n",
      "x[...,:, 0]\n",
      " [[1 2 3]\n",
      " [4 5 6]]\n",
      "If it's the middle index, the ellipsis doens't help you there\n",
      "unless it's a very high dimensional array; say 5D, then you can do x[...,0, :, :]\n",
      "Selecting the 0th slice of the 2nd index\n",
      "x[:, 0, :]\n",
      " [[1]\n",
      " [4]]\n",
      "\n",
      "You can even specify a range for the middle index (note the difference with x[...,:, 0, :])\n",
      "x[:, :1, :]\n",
      " [[[1]]\n",
      "\n",
      " [[4]]]\n",
      "\n"
     ]
    }
   ],
   "source": [
    "'''\n",
    "Now you can slice any which way you want\n",
    "\n",
    "'''\n",
    "x = np.array([[[1],[2],[3]], [[4],[5],[6]]])\n",
    "print('Original 3D array\\n', x)\n",
    "print('with shape:', x.shape, '\\n')\n",
    "\n",
    "print('The following three lines will give the same results: selecting the 0th slice of the first index')\n",
    "print('x[..., 0, :, :]\\n', x[..., 0, :, :])\n",
    "print('x[0,...]\\n', x[0,...])\n",
    "print('x[0]\\n', x[0])\n",
    "\n",
    "print()\n",
    "\n",
    "\n",
    "print('This is made easier with ..., because it deals with the 3rd (and last) index:')\n",
    "print('The following three lines will give the same results: selecting the 0th slice of the 3rd index')\n",
    "print('x[:,:,0]\\n', x[:, :, 0])\n",
    "print('x[...,0]\\n', x[...,0])\n",
    "print('x[...,:, :, 0]\\n', x[...,:, :, 0])\n",
    "#this line takes a bit of thinking: it says x[...] == x[...,:], just as x == x[:]\n",
    "print('x[...,:, 0]\\n', x[...,:, 0])\n",
    "\n",
    "\n",
    "\n",
    "print(\"If it's the middle index, the ellipsis doens't help you there\")\n",
    "print(\"unless it's a very high dimensional array; say 5D, then you can do x[...,0, :, :]\")\n",
    "print('Selecting the 0th slice of the 2nd index')\n",
    "print('x[:, 0, :]\\n', x[:, 0, :])\n",
    "\n",
    "print()\n",
    "print('You can even specify a range for the middle index (note the difference with x[...,:, 0, :])')\n",
    "print('x[:, :1, :]\\n', x[:, :1, :])\n",
    "print()\n",
    "\n"
   ]
  },
  {
   "cell_type": "code",
   "execution_count": 87,
   "metadata": {},
   "outputs": [
    {
     "name": "stdout",
     "output_type": "stream",
     "text": [
      "[[[ True]\n",
      "  [ True]\n",
      "  [ True]]\n",
      "\n",
      " [[ True]\n",
      "  [ True]\n",
      "  [ True]]]\n",
      "[[[ True]\n",
      "  [ True]\n",
      "  [ True]]\n",
      "\n",
      " [[ True]\n",
      "  [ True]\n",
      "  [ True]]]\n"
     ]
    }
   ],
   "source": [
    "'''\n",
    "Mini breakout: \n",
    "\n",
    "Verify x, x[...], and x[..., :] are the same\n",
    "\n",
    "'''\n",
    "\n",
    "print(x == x[...])\n",
    "print(x[...] == x[..., :])\n"
   ]
  },
  {
   "cell_type": "markdown",
   "metadata": {},
   "source": [
    "## End of wk3-2"
   ]
  },
  {
   "cell_type": "code",
   "execution_count": null,
   "metadata": {
    "collapsed": true
   },
   "outputs": [],
   "source": [
    "# numpy appears to be smarter but not really...\n",
    "a = 5.2\n",
    "lst = list(range(10))\n",
    "arr = np.array(range(10))\n",
    "\n",
    "lst1 = [(it*a)/a for it in lst]\n",
    "print(lst1)\n",
    "arr1 = (arr*a)/a \n",
    "print(arr1)\n",
    "# note: here I'm using format as a funciton and not a method (for string)\n",
    "\n",
    "print('16 significant figures:', format(lst1[7], '.15f'))\n",
    "# in other words, if the 17th significant figure is 9, then it's still correct, but it's not \n",
    "print('17 significant figures:', format(lst1[7], '.18f'))"
   ]
  }
 ],
 "metadata": {
  "kernelspec": {
   "display_name": "Python 3",
   "language": "python",
   "name": "python3"
  },
  "language_info": {
   "codemirror_mode": {
    "name": "ipython",
    "version": 3
   },
   "file_extension": ".py",
   "mimetype": "text/x-python",
   "name": "python",
   "nbconvert_exporter": "python",
   "pygments_lexer": "ipython3",
   "version": "3.7.4"
  }
 },
 "nbformat": 4,
 "nbformat_minor": 1
}
