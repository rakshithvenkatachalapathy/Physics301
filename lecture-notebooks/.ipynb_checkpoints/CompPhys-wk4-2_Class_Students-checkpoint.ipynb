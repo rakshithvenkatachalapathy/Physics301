{
 "cells": [
  {
   "cell_type": "markdown",
   "metadata": {},
   "source": [
    "# Topics\n",
    "\n",
    "\n",
    "## 1. Class\n",
    "\n",
    "- ### Introspection\n",
    "- ### Versatility\n",
    "\n"
   ]
  },
  {
   "cell_type": "markdown",
   "metadata": {},
   "source": [
    "## Class"
   ]
  },
  {
   "cell_type": "code",
   "execution_count": 74,
   "metadata": {},
   "outputs": [
    {
     "name": "stdout",
     "output_type": "stream",
     "text": [
      "3\n"
     ]
    }
   ],
   "source": [
    "class T:\n",
    "    '''This class has one attribute: a'''\n",
    "    a = 3\n",
    "\n",
    "t = T()\n",
    "print(t.a)\n"
   ]
  },
  {
   "cell_type": "code",
   "execution_count": 75,
   "metadata": {},
   "outputs": [
    {
     "name": "stdout",
     "output_type": "stream",
     "text": [
      "3\n"
     ]
    },
    {
     "ename": "TypeError",
     "evalue": "test() takes 0 positional arguments but 1 was given",
     "output_type": "error",
     "traceback": [
      "\u001b[0;31m---------------------------------------------------------------------------\u001b[0m",
      "\u001b[0;31mTypeError\u001b[0m                                 Traceback (most recent call last)",
      "\u001b[0;32m<ipython-input-75-7c7d1ce7e767>\u001b[0m in \u001b[0;36m<module>\u001b[0;34m\u001b[0m\n\u001b[1;32m     11\u001b[0m \u001b[0mt\u001b[0m \u001b[0;34m=\u001b[0m \u001b[0mT\u001b[0m\u001b[0;34m(\u001b[0m\u001b[0;34m)\u001b[0m\u001b[0;34m\u001b[0m\u001b[0;34m\u001b[0m\u001b[0m\n\u001b[1;32m     12\u001b[0m \u001b[0mprint\u001b[0m\u001b[0;34m(\u001b[0m\u001b[0mt\u001b[0m\u001b[0;34m.\u001b[0m\u001b[0ma\u001b[0m\u001b[0;34m)\u001b[0m\u001b[0;34m\u001b[0m\u001b[0;34m\u001b[0m\u001b[0m\n\u001b[0;32m---> 13\u001b[0;31m \u001b[0mt\u001b[0m\u001b[0;34m.\u001b[0m\u001b[0mtest\u001b[0m\u001b[0;34m(\u001b[0m\u001b[0;34m)\u001b[0m\u001b[0;34m\u001b[0m\u001b[0;34m\u001b[0m\u001b[0m\n\u001b[0m",
      "\u001b[0;31mTypeError\u001b[0m: test() takes 0 positional arguments but 1 was given"
     ]
    }
   ],
   "source": [
    "'''\n",
    "Need the self!\n",
    "'''\n",
    "\n",
    "class T:\n",
    "    a = 3\n",
    "    def test(): \n",
    "#     def test(self): \n",
    "        '''the first argument expected for every method is self'''\n",
    "        print('inside the method test:', a)\n",
    "t = T()\n",
    "print(t.a)\n",
    "t.test()"
   ]
  },
  {
   "cell_type": "code",
   "execution_count": 78,
   "metadata": {},
   "outputs": [
    {
     "name": "stdout",
     "output_type": "stream",
     "text": [
      "a in the class def 3\n",
      "3\n",
      "inside the method test: 3\n",
      "5\n"
     ]
    }
   ],
   "source": [
    "'''\n",
    "What is the \"self\"??\n",
    "\n",
    "'''\n",
    "class T:\n",
    "    a = 3\n",
    "    def test(self):\n",
    "        print('inside the method test:', self.a)\n",
    "        self.a = 5\n",
    "    print('a in the class def', a)\n",
    "        \n",
    "    \n",
    "t = T()\n",
    "print(t.a)\n",
    "t.test()\n",
    "print(t.a)\n"
   ]
  },
  {
   "cell_type": "markdown",
   "metadata": {},
   "source": [
    "## What is the self?\n",
    "\n",
    "### - self can be considered as the instance of the class\n",
    "### - using self for this self-reference is only a convention\n",
    "### - the first argument of methods is expected to be this self-reference (the instance of the class itself)"
   ]
  },
  {
   "cell_type": "code",
   "execution_count": 80,
   "metadata": {},
   "outputs": [
    {
     "name": "stdout",
     "output_type": "stream",
     "text": [
      "3\n",
      "3\n",
      "inside the method test: 3\n"
     ]
    }
   ],
   "source": [
    "class T:\n",
    "    a = 3\n",
    "    def test(something):\n",
    "        print('inside the method test:', something.a)\n",
    "    print(a)\n",
    "        \n",
    "    \n",
    "t = T()\n",
    "print(t.a)\n",
    "t.test()"
   ]
  },
  {
   "cell_type": "code",
   "execution_count": 81,
   "metadata": {},
   "outputs": [
    {
     "name": "stdout",
     "output_type": "stream",
     "text": [
      "0.379999999999999\n"
     ]
    }
   ],
   "source": [
    "'''\n",
    "The constructor\n",
    "\n",
    "A class of rocket that has a certain initial velocity v0. \n",
    "'''\n",
    "\n",
    "class Y:\n",
    "    def __init__(self, v0):\n",
    "        '''\n",
    "        The constructor initializes the attributes.\n",
    "        The arguements for the constructor need to be \n",
    "        specified at the time of instantiation.\n",
    "        '''\n",
    "        self.v0 = v0     # a variable parameter:\n",
    "                         # can be changed at the time of instantiation\n",
    "        self.g = 9.81    # a constant parameter: cannot be changed \n",
    "                         # at the time of instantiation \n",
    "    \n",
    "    def value(self, t):\n",
    "        return self.v0*t - 0.5*self.g*t**2\n",
    "    \n",
    "# Now we can create an instance of the class Y:\n",
    "y = Y(10)    # y --> self, 10 --> v0\n",
    "print(y.value(2.))"
   ]
  },
  {
   "cell_type": "code",
   "execution_count": 82,
   "metadata": {},
   "outputs": [
    {
     "name": "stdout",
     "output_type": "stream",
     "text": [
      "0.379999999999999\n"
     ]
    }
   ],
   "source": [
    "'''\n",
    "Once more, 'self' is a convention\n",
    "\n",
    "'''\n",
    "\n",
    "class Y:\n",
    "    def __init__(s, v0):\n",
    "        s.v0 = v0     # a variable parameter:\n",
    "                         # can be changed at the time of instantiation\n",
    "        s.g = 9.81    \n",
    "        \n",
    "    def value(self, t):\n",
    "        return self.v0*t - 0.5*self.g*t**2\n",
    "    \n",
    "# Now we can create an instance of the class Y:\n",
    "y = Y(10)    # y --> self, 10 --> v0\n",
    "print(y.value(2.))"
   ]
  },
  {
   "cell_type": "code",
   "execution_count": 83,
   "metadata": {},
   "outputs": [
    {
     "data": {
      "text/plain": [
       "9.81"
      ]
     },
     "execution_count": 83,
     "metadata": {},
     "output_type": "execute_result"
    }
   ],
   "source": [
    "y.g"
   ]
  },
  {
   "cell_type": "code",
   "execution_count": 84,
   "metadata": {},
   "outputs": [],
   "source": [
    "'''Changing g'''\n",
    "y.g /= 6"
   ]
  },
  {
   "cell_type": "code",
   "execution_count": 85,
   "metadata": {},
   "outputs": [
    {
     "name": "stdout",
     "output_type": "stream",
     "text": [
      "1.635\n"
     ]
    }
   ],
   "source": [
    "print(y.g)"
   ]
  },
  {
   "cell_type": "code",
   "execution_count": 86,
   "metadata": {},
   "outputs": [
    {
     "name": "stdout",
     "output_type": "stream",
     "text": [
      "h(t = 2, v0 = 10) = 0.38\n",
      "Formula: v0*t - 0.5*g*t**2; parameters: v0 = 10, g = 9.81 (constant).\n",
      "Initial velocity: 10.0\n",
      "Gravity: 9.81\n"
     ]
    }
   ],
   "source": [
    "'''\n",
    "To make code more readable and therefore easier to modify and debug.\n",
    "Unlike functions, an instance of a class is \"introspective\".\n",
    "\n",
    "For a function, you often have to say, let me look in my code.\n",
    "\n",
    "(Although in Python, functions are objects too, just not explicitly so.)\n",
    "\n",
    "'''\n",
    "class Y:\n",
    "    def __init__(self, v0):\n",
    "        self.v0 = v0     \n",
    "        self.g = 9.81\n",
    "\n",
    "    # .v0 and .g are called attributes.  \n",
    "    # They are basically assignment statements that \n",
    "    # initialized varaibles or constant.\n",
    "\n",
    "    def value(self, t):\n",
    "        return self.v0*t - 0.5*self.g*t**2\n",
    "    def formula(self):\n",
    "        return 'v0*t - 0.5*g*t**2; parameters: v0 = {:g}, g = {:g} (constant).'.format(self.v0, self.g)\n",
    "\n",
    "    # .value and .formula are called methods\n",
    "    # They are like functions: they do \"stuff\" and return outputs\n",
    "    # -- here they return either the result of a calculation or a string.\n",
    "\n",
    "y = Y(10.)\n",
    "t = 2.\n",
    "h = y.value(t)\n",
    "print('h(t = {:g}, v0 = {:g}) = {:g}'.format(t, y.v0, h))\n",
    "# The three statments below: Introspection\n",
    "print('Formula:', y.formula())\n",
    "print('Initial velocity:', y.v0)\n",
    "print(\"Gravity:\", y.g)"
   ]
  },
  {
   "cell_type": "code",
   "execution_count": 87,
   "metadata": {},
   "outputs": [
    {
     "name": "stdout",
     "output_type": "stream",
     "text": [
      "h(t = 2, v0 = 10) = 0.38\n",
      "Formula: v0*t - 0.5*g*t**2; parameters: v0 = 10, g = 9.81 (constant).\n",
      "Initial velocity: 10.0\n",
      "Gravity: 9.81\n"
     ]
    }
   ],
   "source": [
    "'''\n",
    "Keyword arguments for class.\n",
    "\n",
    "'''\n",
    "class Y:\n",
    "    '''\n",
    "    (A class definition should have a docstring, too.)\n",
    "    This class calculates the height of a vertical projectile.\n",
    "    '''\n",
    "    def __init__(self, g=9.81, v0=10.):\n",
    "        self.g = g    \n",
    "        self.v0 = v0\n",
    "            \n",
    "    def value(self, t):\n",
    "        return self.v0*t - 0.5*self.g*t**2\n",
    "    def formula(self):\n",
    "        return 'v0*t - 0.5*g*t**2; parameters: v0 = {:g}, g = {:g} (constant).'.format(self.v0, self.g)\n",
    "\n",
    "y = Y() \n",
    "# or \n",
    "#y = Y(g = 9.81/6, v0 = 10)\n",
    "\n",
    "t = 2.\n",
    "h = y.value(t)\n",
    "print('h(t = {:g}, v0 = {:g}) = {:g}'.format(t, y.v0, h))\n",
    "print('Formula:', y.formula())\n",
    "print('Initial velocity:', y.v0)\n",
    "print(\"Gravity:\", y.g)"
   ]
  },
  {
   "cell_type": "code",
   "execution_count": 88,
   "metadata": {},
   "outputs": [
    {
     "name": "stdout",
     "output_type": "stream",
     "text": [
      "{'g': 9.81, 'v0': 10.0}\n"
     ]
    }
   ],
   "source": [
    "'''\n",
    "Can think of the definition of the attributes as the definition of \n",
    "a dictionary: {'v0':v0, 'g':9.81}\n",
    "in fact every class instance has a dictionary: __dict__\n",
    "'''\n",
    "y = Y()   # here v0 has been assigned the value 2.0.\n",
    "print(y.__dict__)"
   ]
  },
  {
   "cell_type": "code",
   "execution_count": 89,
   "metadata": {},
   "outputs": [
    {
     "data": {
      "text/plain": [
       "['__class__',\n",
       " '__delattr__',\n",
       " '__dict__',\n",
       " '__dir__',\n",
       " '__doc__',\n",
       " '__eq__',\n",
       " '__format__',\n",
       " '__ge__',\n",
       " '__getattribute__',\n",
       " '__gt__',\n",
       " '__hash__',\n",
       " '__init__',\n",
       " '__init_subclass__',\n",
       " '__le__',\n",
       " '__lt__',\n",
       " '__module__',\n",
       " '__ne__',\n",
       " '__new__',\n",
       " '__reduce__',\n",
       " '__reduce_ex__',\n",
       " '__repr__',\n",
       " '__setattr__',\n",
       " '__sizeof__',\n",
       " '__str__',\n",
       " '__subclasshook__',\n",
       " '__weakref__',\n",
       " 'formula',\n",
       " 'g',\n",
       " 'v0',\n",
       " 'value']"
      ]
     },
     "execution_count": 89,
     "metadata": {},
     "output_type": "execute_result"
    }
   ],
   "source": [
    "'''\n",
    "To get all attributes and methods\n",
    "\n",
    "By combining .__dict__ and dir(), you can figure out which ones are \n",
    "attrubute, and which ones are methods (in this case, formula).\n",
    "\n",
    "Note there are two other \"dunders\": __doc__ and __init__.\n",
    "\n",
    "'''\n",
    "dir(y)"
   ]
  },
  {
   "cell_type": "code",
   "execution_count": 90,
   "metadata": {},
   "outputs": [
    {
     "name": "stdout",
     "output_type": "stream",
     "text": [
      "The docstring for the class: \n",
      "    (A class definition should have a docstring, too.)\n",
      "    This class calculates the height of a vertical projectile.\n",
      "    \n"
     ]
    }
   ],
   "source": [
    "print('The docstring for the class:', y.__doc__)"
   ]
  },
  {
   "cell_type": "code",
   "execution_count": 93,
   "metadata": {},
   "outputs": [
    {
     "name": "stdout",
     "output_type": "stream",
     "text": [
      "200.0 1.635\n"
     ]
    }
   ],
   "source": [
    "y.v0 = 200.\n",
    "y.g /= 6\n",
    "print(y.v0, y.g)"
   ]
  },
  {
   "cell_type": "code",
   "execution_count": 94,
   "metadata": {},
   "outputs": [
    {
     "name": "stdout",
     "output_type": "stream",
     "text": [
      "10.0 9.81\n"
     ]
    }
   ],
   "source": [
    "'''\n",
    "__init__() is always implicitly excuted at the time of the instantiation.\n",
    "\n",
    "But you can also explicitly invoke it at any time.\n",
    "\n",
    "'''\n",
    "y.__init__()\n",
    "print(y.v0, y.g)"
   ]
  },
  {
   "cell_type": "code",
   "execution_count": 96,
   "metadata": {},
   "outputs": [
    {
     "data": {
      "text/plain": [
       "0.3999999999999986"
      ]
     },
     "execution_count": 96,
     "metadata": {},
     "output_type": "execute_result"
    }
   ],
   "source": [
    "'''What about a function?'''\n",
    "def Z(v0, t, g=9.8):\n",
    "    '''A function that computes the height of a vertical projectile.'''\n",
    "    return v0 * t - 0.5 * g * t**2\n",
    "Z(10, 2)"
   ]
  },
  {
   "cell_type": "code",
   "execution_count": 97,
   "metadata": {},
   "outputs": [
    {
     "data": {
      "text/plain": [
       "['__annotations__',\n",
       " '__call__',\n",
       " '__class__',\n",
       " '__closure__',\n",
       " '__code__',\n",
       " '__defaults__',\n",
       " '__delattr__',\n",
       " '__dict__',\n",
       " '__dir__',\n",
       " '__doc__',\n",
       " '__eq__',\n",
       " '__format__',\n",
       " '__ge__',\n",
       " '__get__',\n",
       " '__getattribute__',\n",
       " '__globals__',\n",
       " '__gt__',\n",
       " '__hash__',\n",
       " '__init__',\n",
       " '__init_subclass__',\n",
       " '__kwdefaults__',\n",
       " '__le__',\n",
       " '__lt__',\n",
       " '__module__',\n",
       " '__name__',\n",
       " '__ne__',\n",
       " '__new__',\n",
       " '__qualname__',\n",
       " '__reduce__',\n",
       " '__reduce_ex__',\n",
       " '__repr__',\n",
       " '__setattr__',\n",
       " '__sizeof__',\n",
       " '__str__',\n",
       " '__subclasshook__']"
      ]
     },
     "execution_count": 97,
     "metadata": {},
     "output_type": "execute_result"
    }
   ],
   "source": [
    "'''\n",
    "Underneath a function is implemented as a class object\n",
    "as is everything else in python -- everything in python is an object\n",
    "-- that is, everything is an instance of some class.\n",
    "\n",
    "But there are not custom methods and attributes\n",
    "'''\n",
    "dir(Z)"
   ]
  },
  {
   "cell_type": "code",
   "execution_count": 98,
   "metadata": {},
   "outputs": [
    {
     "data": {
      "text/plain": [
       "'A function that computes the height of a vertical projectile.'"
      ]
     },
     "execution_count": 98,
     "metadata": {},
     "output_type": "execute_result"
    }
   ],
   "source": [
    "Z.__doc__"
   ]
  },
  {
   "cell_type": "code",
   "execution_count": 99,
   "metadata": {},
   "outputs": [
    {
     "data": {
      "text/plain": [
       "{}"
      ]
     },
     "execution_count": 99,
     "metadata": {},
     "output_type": "execute_result"
    }
   ],
   "source": [
    "'''\n",
    ".__dict__ only lists custom attributes (the ones you have defined)\n",
    "\n",
    "'''\n",
    "Z.__dict__"
   ]
  },
  {
   "cell_type": "code",
   "execution_count": 100,
   "metadata": {},
   "outputs": [
    {
     "data": {
      "text/plain": [
       "{'g': 9.81, 'v0': 10.0}"
      ]
     },
     "execution_count": 100,
     "metadata": {},
     "output_type": "execute_result"
    }
   ],
   "source": [
    "y.__dict__"
   ]
  },
  {
   "cell_type": "markdown",
   "metadata": {},
   "source": [
    "## Short breakout: add a method that computes velocity"
   ]
  },
  {
   "cell_type": "markdown",
   "metadata": {},
   "source": [
    "## Breakout Exercise:\n",
    "\n",
    "### Write a class BankAccount, that has the following attributes:\n",
    "\n",
    "- ### name\n",
    "- ### account number\n",
    "- ### balance\n",
    "\n",
    "### All three have to be specified at the time of instantiation \n",
    "\n",
    "### The class should have three methods:\n",
    "\n",
    "- ### deposit() -- it will take the monetary amount as argument and add it to the balance.\n",
    "- ### withdraw() -- it will subtract a specified amount of money from balance.\n",
    "- ### dump() -- it will print the up-to-date account information: the name of the account holder, the account number, and the balance at this time.\n",
    "\n",
    "### Create an account for Guido van Rossum; call it GVR."
   ]
  },
  {
   "cell_type": "code",
   "execution_count": 104,
   "metadata": {},
   "outputs": [
    {
     "name": "stdout",
     "output_type": "stream",
     "text": [
      "A bank account is created: Fernando Perez\n",
      "A bank account is created: Guido van Rossum\n",
      "Fernando Perez's balance: 99500\n",
      "Guido van Rossum 22223333, balance: 200500\n"
     ]
    }
   ],
   "source": [
    "'''\n",
    "Create two accounts, one for Fernando Perez; call is FPZ. \n",
    "\n",
    "and one for Guido van Rossum; call it GVR.  \n",
    "\n",
    "Make sure each account has at least $1000.\n",
    "\n",
    "Then let FPZ lend $500 to GVR \n",
    "(from one bank account to the other through venmo, say)\n",
    "\n",
    "'''\n",
    "\n",
    "FPZ = BankAccount('Fernando Perez', '11112222', 100000)\n",
    "GVR = BankAccount('Guido van Rossum', '22223333', 200000)\n",
    "\n",
    "\n",
    "money = 500\n",
    "FPZ.withdraw(money)\n",
    "GVR.deposit(money)\n",
    "\n",
    "print(\"Fernando Perez's balance:\", FPZ.balance)\n",
    "print(GVR.dump())\n",
    "\n"
   ]
  },
  {
   "cell_type": "markdown",
   "metadata": {},
   "source": [
    "## From this example, I hope you can see the utility of defining classes: you now can apply the same structure (the attributes \"data\" and the methods) to many people. "
   ]
  },
  {
   "cell_type": "code",
   "execution_count": 106,
   "metadata": {},
   "outputs": [
    {
     "name": "stdout",
     "output_type": "stream",
     "text": [
      "A bank account is created: Bugs Bunny\n"
     ]
    },
    {
     "data": {
      "text/plain": [
       "'Bugs Bunny'"
      ]
     },
     "execution_count": 106,
     "metadata": {},
     "output_type": "execute_result"
    }
   ],
   "source": [
    "'''\n",
    "if you want to change the identity of a1, \n",
    "you can certainly do a1 = BankAccount('New Name', 'New Number', new_initial_points)\n",
    "But you can also do this:\n",
    "'''\n",
    "\n",
    "\n",
    "FPZ.__init__('Bugs Bunny', '123', 200)\n",
    "FPZ.name"
   ]
  },
  {
   "cell_type": "markdown",
   "metadata": {},
   "source": [
    "## Breakout Problem: \n",
    "\n",
    "### Create a class Turtle that \n",
    "\n",
    "- ### has attributes: name and weight\n",
    "- ### when an instance of this class is created, immediately announce to the world its creation by printing a statement in a sensible way\n",
    "- ### has methods: \n",
    "\n",
    "\n",
    "     i) eat -- you can specify the amount that will be added to its weight.\n",
    "\n",
    "\n",
    "    ii) hibernate -- an object that is an instance of this class will lose 10% of its weight every time this method is called."
   ]
  },
  {
   "cell_type": "code",
   "execution_count": 108,
   "metadata": {},
   "outputs": [
    {
     "name": "stdout",
     "output_type": "stream",
     "text": [
      "A turtle named \"Crush\" is born!\n"
     ]
    }
   ],
   "source": [
    "'''\n",
    "Can delete an existing instance of a class:\n",
    "'''\n",
    "# if isinstance(t, Turtle):\n",
    "#     del t\n",
    "t = Turtle('Crush', 150)  \n",
    "\n",
    "# From Finding Nemo, but actually sea turtles generally don't hibernate.\n",
    "# Oh well!"
   ]
  },
  {
   "cell_type": "code",
   "execution_count": 109,
   "metadata": {},
   "outputs": [
    {
     "data": {
      "text/plain": [
       "155"
      ]
     },
     "execution_count": 109,
     "metadata": {},
     "output_type": "execute_result"
    }
   ],
   "source": [
    "t.eat(5)\n",
    "t.weight"
   ]
  },
  {
   "cell_type": "code",
   "execution_count": 110,
   "metadata": {},
   "outputs": [
    {
     "data": {
      "text/plain": [
       "139.5"
      ]
     },
     "execution_count": 110,
     "metadata": {},
     "output_type": "execute_result"
    }
   ],
   "source": [
    "# can use tab completion\n",
    "t.hibernate()\n",
    "t.weight"
   ]
  },
  {
   "cell_type": "code",
   "execution_count": 113,
   "metadata": {},
   "outputs": [
    {
     "data": {
      "text/plain": [
       "False"
      ]
     },
     "execution_count": 113,
     "metadata": {},
     "output_type": "execute_result"
    }
   ],
   "source": [
    "isinstance(1., int)"
   ]
  },
  {
   "cell_type": "code",
   "execution_count": 114,
   "metadata": {},
   "outputs": [
    {
     "data": {
      "text/plain": [
       "True"
      ]
     },
     "execution_count": 114,
     "metadata": {},
     "output_type": "execute_result"
    }
   ],
   "source": [
    "isinstance(t, Turtle)"
   ]
  },
  {
   "cell_type": "markdown",
   "metadata": {},
   "source": [
    "## Special Methods\n",
    "\n",
    "- ### \\_\\_init\\_\\_ is called a special method.\n",
    "\n",
    "- ### All methods that start and end with \\_\\_ are special methods.\n",
    "\n",
    "- ### Their invocation is usually implict\n",
    "\n",
    "   Here's another example of a special: the method \\_\\_call\\_\\_"
   ]
  },
  {
   "cell_type": "code",
   "execution_count": 115,
   "metadata": {},
   "outputs": [
    {
     "name": "stdout",
     "output_type": "stream",
     "text": [
      "h(t = 2; v0 = 10) = 0.38\n",
      "False\n"
     ]
    }
   ],
   "source": [
    "class Y:\n",
    "    def __init__(self, v0, g=9.81):   \n",
    "        self.v0 = v0     \n",
    "        self.g = g    \n",
    "        \n",
    "    def value(self, t):\n",
    "        v0, g = self.v0, self.g   # if you want...\n",
    "        return v0*t - 0.5*g*t**2\n",
    "\n",
    "    def formula(self):\n",
    "        return 'h = v0*t - 0.5*g*t**2; parameters: v0 = {:g}, g = {:g} (constant).'.format(self.v0, self.g)\n",
    "\n",
    "\n",
    "y = Y(10.)\n",
    "t = 2.\n",
    "h = y.value(t)\n",
    "print('h(t = {:g}; v0 = {:g}) = {:g}'.format(t, y.v0, h))\n",
    "print(callable(y))\n"
   ]
  },
  {
   "cell_type": "code",
   "execution_count": 116,
   "metadata": {},
   "outputs": [
    {
     "name": "stdout",
     "output_type": "stream",
     "text": [
      "h(t = 2; v0 = 10) = 0.38\n",
      "True\n"
     ]
    }
   ],
   "source": [
    "class Y:\n",
    "    def __init__(self, v0, g=9.81):   \n",
    "        self.v0 = v0     \n",
    "        self.g = g    \n",
    "        \n",
    "    def value(self, t):\n",
    "        v0, g = self.v0, self.g   # if you want...\n",
    "        return v0 * t - 0.5 * g * t**2\n",
    "\n",
    "    def __call__(self, t):\n",
    "        return self.v0 * t - 0.5 * self.g * t**2\n",
    "\n",
    "    def formula(self):\n",
    "        return 'h = v0*t - 0.5*g*t**2; parameters: v0 = {:g}, g = {:g} (constant).'.format(self.v0, self.g)\n",
    "\n",
    "y = Y(10)\n",
    "t = 2.\n",
    "h = y(t)\n",
    "print('h(t = {:g}; v0 = {:g}) = {:g}'.format(t, y.v0, h))\n",
    "print(callable(y))"
   ]
  },
  {
   "cell_type": "code",
   "execution_count": 117,
   "metadata": {},
   "outputs": [
    {
     "name": "stdout",
     "output_type": "stream",
     "text": [
      "0.379999999999999\n",
      "0.379999999999999\n"
     ]
    }
   ],
   "source": [
    "'''\n",
    "When you do h = y(t), you are implicitly invoking the method __call__;\n",
    "i.e., it's the same as h = y.__call__(t):\n",
    "'''\n",
    "\n",
    "y = Y(10)\n",
    "t = 2.\n",
    "h = y(t)\n",
    "print(h)\n",
    "h2 = y.__call__(t)\n",
    "print(h2)"
   ]
  },
  {
   "cell_type": "markdown",
   "metadata": {},
   "source": [
    "## Now, take a wild guess: what is one special method any function object has to have?"
   ]
  },
  {
   "cell_type": "code",
   "execution_count": 118,
   "metadata": {},
   "outputs": [
    {
     "name": "stdout",
     "output_type": "stream",
     "text": [
      "hello\n"
     ]
    }
   ],
   "source": [
    "def func():\n",
    "    return print('hello')\n",
    "func()"
   ]
  },
  {
   "cell_type": "code",
   "execution_count": 70,
   "metadata": {},
   "outputs": [
    {
     "data": {
      "text/plain": [
       "['__annotations__',\n",
       " '__call__',\n",
       " '__class__',\n",
       " '__closure__',\n",
       " '__code__',\n",
       " '__defaults__',\n",
       " '__delattr__',\n",
       " '__dict__',\n",
       " '__dir__',\n",
       " '__doc__',\n",
       " '__eq__',\n",
       " '__format__',\n",
       " '__ge__',\n",
       " '__get__',\n",
       " '__getattribute__',\n",
       " '__globals__',\n",
       " '__gt__',\n",
       " '__hash__',\n",
       " '__init__',\n",
       " '__init_subclass__',\n",
       " '__kwdefaults__',\n",
       " '__le__',\n",
       " '__lt__',\n",
       " '__module__',\n",
       " '__name__',\n",
       " '__ne__',\n",
       " '__new__',\n",
       " '__qualname__',\n",
       " '__reduce__',\n",
       " '__reduce_ex__',\n",
       " '__repr__',\n",
       " '__setattr__',\n",
       " '__sizeof__',\n",
       " '__str__',\n",
       " '__subclasshook__']"
      ]
     },
     "execution_count": 70,
     "metadata": {},
     "output_type": "execute_result"
    }
   ],
   "source": [
    "dir(func)"
   ]
  },
  {
   "cell_type": "code",
   "execution_count": 119,
   "metadata": {},
   "outputs": [
    {
     "name": "stdout",
     "output_type": "stream",
     "text": [
      "hello\n",
      "hello\n"
     ]
    }
   ],
   "source": [
    "func()\n",
    "func.__call__()"
   ]
  },
  {
   "cell_type": "markdown",
   "metadata": {},
   "source": [
    "### The difference between a regular method and .\\_\\_call\\_\\_() is that .value() is *not* a special method and has to be called explicitly whereas .\\_\\_call\\_\\_() is a special method and can be invoked implicitly.\n",
    "\n",
    "### This implicity makes the code more elegant, and very importantly, more readable."
   ]
  },
  {
   "cell_type": "code",
   "execution_count": 122,
   "metadata": {},
   "outputs": [
    {
     "name": "stdout",
     "output_type": "stream",
     "text": [
      "h(t = 2; v0 = 10) = 0.38\n",
      "9.81\n",
      "True\n"
     ]
    }
   ],
   "source": [
    "'''Using functions and classes together'''\n",
    "\n",
    "def vert_dist(g, v0, t):\n",
    "    return v0*t - 0.5*g*t**2\n",
    "\n",
    "class Y:\n",
    "    def __init__(self, v0, g = 9.81):   # The \"Constructor\"\n",
    "        self.v0 = v0     # a variable parameter: can be changed programmatically.\n",
    "        self.g = g    \n",
    "\n",
    "    def value(self, t):\n",
    "        v0, g = self.v0, self.g   # if you want...\n",
    "        return vert_dist(g, v0, t)\n",
    "\n",
    "    def __call__(self, t):\n",
    "        v0, g = self.v0, self.g   \n",
    "        return vert_dist(g, v0, t)\n",
    "\n",
    "    def formula(self):\n",
    "        return 'h = v0*t - 0.5*g*t**2; parameters: v0 = {:g}, g = {:g} (constant).'.format(self.v0, self.g)\n",
    "\n",
    "y = Y(10)\n",
    "t = 2.\n",
    "h = y(t)\n",
    "print('h(t = {:g}; v0 = {:g}) = {:g}'.format(t, y.v0, h))\n",
    "print(y.g)\n",
    "print(callable(y))"
   ]
  },
  {
   "cell_type": "markdown",
   "metadata": {},
   "source": [
    "## One way to think of the above cell considered as a python program:\n",
    "\n",
    "### 1. At the heart of the program (or more accurately, the \"brain\" of the program) is the function vert_dist()\n",
    "\n",
    "### 2. The class Y is a \"wrapper\" around that function.  The idea of a wrapper is very important in python.\n",
    "It provides \"bells and whistles\" to an otherwise barebone function:\n",
    "\n",
    "### a) It provides nice peripherals/introspection to the barebone function, e.g., one can do\n",
    "\n",
    "     y.formula\n",
    "\n",
    "### b) It provides different ways of calling the function and making it more versatile.  E.g., as written vert_dist() doesn't work with diff().  But using the class Y, this can be done easily:"
   ]
  },
  {
   "cell_type": "code",
   "execution_count": 121,
   "metadata": {},
   "outputs": [
    {
     "data": {
      "text/plain": [
       "9.01899999128375"
      ]
     },
     "execution_count": 121,
     "metadata": {},
     "output_type": "execute_result"
    }
   ],
   "source": [
    "diff = lambda f, x, h = 1e-10:(f(x+h) - f(x-h))/(2*h)\n",
    "\n",
    "diff(y.value, 0.1)"
   ]
  },
  {
   "cell_type": "code",
   "execution_count": 123,
   "metadata": {},
   "outputs": [
    {
     "ename": "TypeError",
     "evalue": "vert_dist() missing 2 required positional arguments: 'v0' and 't'",
     "output_type": "error",
     "traceback": [
      "\u001b[0;31m---------------------------------------------------------------------------\u001b[0m",
      "\u001b[0;31mTypeError\u001b[0m                                 Traceback (most recent call last)",
      "\u001b[0;32m<ipython-input-123-610e6133379b>\u001b[0m in \u001b[0;36m<module>\u001b[0;34m\u001b[0m\n\u001b[1;32m      1\u001b[0m \u001b[0mdiff\u001b[0m \u001b[0;34m=\u001b[0m \u001b[0;32mlambda\u001b[0m \u001b[0mf\u001b[0m\u001b[0;34m,\u001b[0m \u001b[0mx\u001b[0m\u001b[0;34m,\u001b[0m \u001b[0mh\u001b[0m \u001b[0;34m=\u001b[0m \u001b[0;36m1e-10\u001b[0m\u001b[0;34m:\u001b[0m\u001b[0;34m(\u001b[0m\u001b[0mf\u001b[0m\u001b[0;34m(\u001b[0m\u001b[0mx\u001b[0m\u001b[0;34m+\u001b[0m\u001b[0mh\u001b[0m\u001b[0;34m)\u001b[0m \u001b[0;34m-\u001b[0m \u001b[0mf\u001b[0m\u001b[0;34m(\u001b[0m\u001b[0mx\u001b[0m\u001b[0;34m-\u001b[0m\u001b[0mh\u001b[0m\u001b[0;34m)\u001b[0m\u001b[0;34m)\u001b[0m\u001b[0;34m/\u001b[0m\u001b[0;34m(\u001b[0m\u001b[0;36m2\u001b[0m\u001b[0;34m*\u001b[0m\u001b[0mh\u001b[0m\u001b[0;34m)\u001b[0m\u001b[0;34m\u001b[0m\u001b[0;34m\u001b[0m\u001b[0m\n\u001b[1;32m      2\u001b[0m \u001b[0;34m\u001b[0m\u001b[0m\n\u001b[0;32m----> 3\u001b[0;31m \u001b[0mdiff\u001b[0m\u001b[0;34m(\u001b[0m\u001b[0mvert_dist\u001b[0m\u001b[0;34m,\u001b[0m \u001b[0;36m0.1\u001b[0m\u001b[0;34m)\u001b[0m\u001b[0;34m\u001b[0m\u001b[0;34m\u001b[0m\u001b[0m\n\u001b[0m",
      "\u001b[0;32m<ipython-input-123-610e6133379b>\u001b[0m in \u001b[0;36m<lambda>\u001b[0;34m(f, x, h)\u001b[0m\n\u001b[0;32m----> 1\u001b[0;31m \u001b[0mdiff\u001b[0m \u001b[0;34m=\u001b[0m \u001b[0;32mlambda\u001b[0m \u001b[0mf\u001b[0m\u001b[0;34m,\u001b[0m \u001b[0mx\u001b[0m\u001b[0;34m,\u001b[0m \u001b[0mh\u001b[0m \u001b[0;34m=\u001b[0m \u001b[0;36m1e-10\u001b[0m\u001b[0;34m:\u001b[0m\u001b[0;34m(\u001b[0m\u001b[0mf\u001b[0m\u001b[0;34m(\u001b[0m\u001b[0mx\u001b[0m\u001b[0;34m+\u001b[0m\u001b[0mh\u001b[0m\u001b[0;34m)\u001b[0m \u001b[0;34m-\u001b[0m \u001b[0mf\u001b[0m\u001b[0;34m(\u001b[0m\u001b[0mx\u001b[0m\u001b[0;34m-\u001b[0m\u001b[0mh\u001b[0m\u001b[0;34m)\u001b[0m\u001b[0;34m)\u001b[0m\u001b[0;34m/\u001b[0m\u001b[0;34m(\u001b[0m\u001b[0;36m2\u001b[0m\u001b[0;34m*\u001b[0m\u001b[0mh\u001b[0m\u001b[0;34m)\u001b[0m\u001b[0;34m\u001b[0m\u001b[0;34m\u001b[0m\u001b[0m\n\u001b[0m\u001b[1;32m      2\u001b[0m \u001b[0;34m\u001b[0m\u001b[0m\n\u001b[1;32m      3\u001b[0m \u001b[0mdiff\u001b[0m\u001b[0;34m(\u001b[0m\u001b[0mvert_dist\u001b[0m\u001b[0;34m,\u001b[0m \u001b[0;36m0.1\u001b[0m\u001b[0;34m)\u001b[0m\u001b[0;34m\u001b[0m\u001b[0;34m\u001b[0m\u001b[0m\n",
      "\u001b[0;31mTypeError\u001b[0m: vert_dist() missing 2 required positional arguments: 'v0' and 't'"
     ]
    }
   ],
   "source": [
    "diff = lambda f, x, h = 1e-10:(f(x+h) - f(x-h))/(2*h)\n",
    "\n",
    "diff(vert_dist, 0.1)"
   ]
  },
  {
   "cell_type": "code",
   "execution_count": 124,
   "metadata": {},
   "outputs": [
    {
     "data": {
      "text/plain": [
       "9.01899999128375"
      ]
     },
     "execution_count": 124,
     "metadata": {},
     "output_type": "execute_result"
    }
   ],
   "source": [
    "#Since we defined the method __call__, it can be done with better visual:\n",
    "diff = lambda f, x, h = 1e-10:(f(x+h) - f(x-h))/(2*h)\n",
    "\n",
    "diff(y, 0.1)"
   ]
  },
  {
   "cell_type": "code",
   "execution_count": 125,
   "metadata": {},
   "outputs": [
    {
     "name": "stdout",
     "output_type": "stream",
     "text": [
      "<function vert_dist_rigid at 0x103167a60>\n"
     ]
    }
   ],
   "source": [
    "# To do this with a barebone function, you need to define it this way:\n",
    "def vert_dist_rigid(t):\n",
    "    v0 = 10.\n",
    "    g = 9.81\n",
    "    return v0*t - 0.5*g*t**2\n",
    "diff(vert_dist_rigid, 0.1)\n",
    "# But then you cannot change v0 and g programmatically; \n",
    "# you have to do it \"by hand\".  \n",
    "# -- not elegant, nor convenient!\n",
    "print(vert_dist_rigid)"
   ]
  },
  {
   "cell_type": "code",
   "execution_count": 128,
   "metadata": {},
   "outputs": [
    {
     "name": "stdout",
     "output_type": "stream",
     "text": [
      "h = v0*t - 0.5*g*t**2; parameters: v0 = 10, g = 9.81 (constant).\n",
      "h = v0*t - 0.5*g*t**2; parameters: v0 = 10, g = 9.81 (constant).\n"
     ]
    }
   ],
   "source": [
    "''' \n",
    "One more special method: __str__\n",
    "If __str__ is not defined\n",
    ">>> print(y)\n",
    "gives \n",
    "\n",
    "<__main__.Y instance at 0x4fbee68>\n",
    "\n",
    "If it is, whatever in the body of the method will be printed\n",
    "'''\n",
    "\n",
    "def vert_dist(g, v0, t):\n",
    "    return v0*t - 0.5*g*t**2\n",
    "\n",
    "class Y:\n",
    "    def __init__(self, v0, g = 9.81):   \n",
    "        self.v0 = v0    \n",
    "        self.g = g    \n",
    "\n",
    "    def __call__(self, t):\n",
    "        v0, g = self.v0, self.g   # if you want...\n",
    "        return vert_dist(g, v0, t)\n",
    "\n",
    "    def __str__(self):\n",
    "        return 'h = v0*t - 0.5*g*t**2; parameters: v0 = {:g}, g = {:g} (constant).'.format(self.v0, self.g)\n",
    "        \n",
    "\n",
    "\n",
    "y = Y(10)\n",
    "t = 2.\n",
    "print(y)\n",
    "# this is the same as\n",
    "print(y.__str__())\n"
   ]
  },
  {
   "cell_type": "markdown",
   "metadata": {},
   "source": [
    "## Connection with string object"
   ]
  },
  {
   "cell_type": "code",
   "execution_count": 129,
   "metadata": {},
   "outputs": [
    {
     "data": {
      "text/plain": [
       "['__add__',\n",
       " '__class__',\n",
       " '__contains__',\n",
       " '__delattr__',\n",
       " '__dir__',\n",
       " '__doc__',\n",
       " '__eq__',\n",
       " '__format__',\n",
       " '__ge__',\n",
       " '__getattribute__',\n",
       " '__getitem__',\n",
       " '__getnewargs__',\n",
       " '__gt__',\n",
       " '__hash__',\n",
       " '__init__',\n",
       " '__init_subclass__',\n",
       " '__iter__',\n",
       " '__le__',\n",
       " '__len__',\n",
       " '__lt__',\n",
       " '__mod__',\n",
       " '__mul__',\n",
       " '__ne__',\n",
       " '__new__',\n",
       " '__reduce__',\n",
       " '__reduce_ex__',\n",
       " '__repr__',\n",
       " '__rmod__',\n",
       " '__rmul__',\n",
       " '__setattr__',\n",
       " '__sizeof__',\n",
       " '__str__',\n",
       " '__subclasshook__',\n",
       " 'capitalize',\n",
       " 'casefold',\n",
       " 'center',\n",
       " 'count',\n",
       " 'encode',\n",
       " 'endswith',\n",
       " 'expandtabs',\n",
       " 'find',\n",
       " 'format',\n",
       " 'format_map',\n",
       " 'index',\n",
       " 'isalnum',\n",
       " 'isalpha',\n",
       " 'isascii',\n",
       " 'isdecimal',\n",
       " 'isdigit',\n",
       " 'isidentifier',\n",
       " 'islower',\n",
       " 'isnumeric',\n",
       " 'isprintable',\n",
       " 'isspace',\n",
       " 'istitle',\n",
       " 'isupper',\n",
       " 'join',\n",
       " 'ljust',\n",
       " 'lower',\n",
       " 'lstrip',\n",
       " 'maketrans',\n",
       " 'partition',\n",
       " 'replace',\n",
       " 'rfind',\n",
       " 'rindex',\n",
       " 'rjust',\n",
       " 'rpartition',\n",
       " 'rsplit',\n",
       " 'rstrip',\n",
       " 'split',\n",
       " 'splitlines',\n",
       " 'startswith',\n",
       " 'strip',\n",
       " 'swapcase',\n",
       " 'title',\n",
       " 'translate',\n",
       " 'upper',\n",
       " 'zfill']"
      ]
     },
     "execution_count": 129,
     "metadata": {},
     "output_type": "execute_result"
    }
   ],
   "source": [
    "a = 'hello world'\n",
    "# your guess would be it should have a __str__ method,\n",
    "# just as you expected a function object would have the __call__ method\n",
    "dir(a)"
   ]
  },
  {
   "cell_type": "code",
   "execution_count": 130,
   "metadata": {},
   "outputs": [
    {
     "name": "stdout",
     "output_type": "stream",
     "text": [
      "HELLO WORLD\n"
     ]
    }
   ],
   "source": [
    "# e.g.: the method upper()\n",
    "b = a.upper()\n",
    "print(b)"
   ]
  },
  {
   "cell_type": "code",
   "execution_count": 131,
   "metadata": {},
   "outputs": [
    {
     "data": {
      "text/plain": [
       "'hello'"
      ]
     },
     "execution_count": 131,
     "metadata": {},
     "output_type": "execute_result"
    }
   ],
   "source": [
    "# What do you expect to get?\n",
    "'hello'.__str__()"
   ]
  },
  {
   "cell_type": "code",
   "execution_count": 132,
   "metadata": {},
   "outputs": [
    {
     "data": {
      "text/plain": [
       "['__abs__',\n",
       " '__add__',\n",
       " '__and__',\n",
       " '__bool__',\n",
       " '__ceil__',\n",
       " '__class__',\n",
       " '__delattr__',\n",
       " '__dir__',\n",
       " '__divmod__',\n",
       " '__doc__',\n",
       " '__eq__',\n",
       " '__float__',\n",
       " '__floor__',\n",
       " '__floordiv__',\n",
       " '__format__',\n",
       " '__ge__',\n",
       " '__getattribute__',\n",
       " '__getnewargs__',\n",
       " '__gt__',\n",
       " '__hash__',\n",
       " '__index__',\n",
       " '__init__',\n",
       " '__init_subclass__',\n",
       " '__int__',\n",
       " '__invert__',\n",
       " '__le__',\n",
       " '__lshift__',\n",
       " '__lt__',\n",
       " '__mod__',\n",
       " '__mul__',\n",
       " '__ne__',\n",
       " '__neg__',\n",
       " '__new__',\n",
       " '__or__',\n",
       " '__pos__',\n",
       " '__pow__',\n",
       " '__radd__',\n",
       " '__rand__',\n",
       " '__rdivmod__',\n",
       " '__reduce__',\n",
       " '__reduce_ex__',\n",
       " '__repr__',\n",
       " '__rfloordiv__',\n",
       " '__rlshift__',\n",
       " '__rmod__',\n",
       " '__rmul__',\n",
       " '__ror__',\n",
       " '__round__',\n",
       " '__rpow__',\n",
       " '__rrshift__',\n",
       " '__rshift__',\n",
       " '__rsub__',\n",
       " '__rtruediv__',\n",
       " '__rxor__',\n",
       " '__setattr__',\n",
       " '__sizeof__',\n",
       " '__str__',\n",
       " '__sub__',\n",
       " '__subclasshook__',\n",
       " '__truediv__',\n",
       " '__trunc__',\n",
       " '__xor__',\n",
       " 'bit_length',\n",
       " 'conjugate',\n",
       " 'denominator',\n",
       " 'from_bytes',\n",
       " 'imag',\n",
       " 'numerator',\n",
       " 'real',\n",
       " 'to_bytes']"
      ]
     },
     "execution_count": 132,
     "metadata": {},
     "output_type": "execute_result"
    }
   ],
   "source": [
    "b = 2\n",
    "dir(b)"
   ]
  },
  {
   "cell_type": "markdown",
   "metadata": {},
   "source": [
    "## What have we achieved with the class Y:\n",
    "\n",
    "### 1. Self-inspection\n",
    "### 2. Can be called just like a function\n",
    "### 3. But can also be treated as string!\n",
    "### 4. Can be used as argument for another funciton (even when there are additional parameters)\n",
    "### 5. Can be easily used as wrapper to add \"bells and whistles\"\n",
    "### 6. Stylistically, some people are in the habit of writing long, complicated functions.  But in constructing a class, you are subtly encouraged to write short, focused methods -- this make code more readable and maintainable.\n",
    "\n",
    "### A \"traditional\" function can only do \\#2 above."
   ]
  },
  {
   "cell_type": "markdown",
   "metadata": {},
   "source": [
    "## End of wk 4-2\n"
   ]
  }
 ],
 "metadata": {
  "kernelspec": {
   "display_name": "Python 3",
   "language": "python",
   "name": "python3"
  },
  "language_info": {
   "codemirror_mode": {
    "name": "ipython",
    "version": 3
   },
   "file_extension": ".py",
   "mimetype": "text/x-python",
   "name": "python",
   "nbconvert_exporter": "python",
   "pygments_lexer": "ipython3",
   "version": "3.7.4"
  }
 },
 "nbformat": 4,
 "nbformat_minor": 1
}
