{
 "cells": [
  {
   "cell_type": "markdown",
   "metadata": {},
   "source": [
    "## Keynote Slides and This notebook\n",
    "# Topics \n",
    "- ## Interactive Debugging Tool\n",
    "- ## Numerical Derivatives\n",
    "- ## Lambda Functions\n",
    "- ## Doctest"
   ]
  },
  {
   "cell_type": "code",
   "execution_count": 2,
   "metadata": {},
   "outputs": [],
   "source": [
    "import matplotlib as mpl"
   ]
  },
  {
   "cell_type": "code",
   "execution_count": 3,
   "metadata": {},
   "outputs": [
    {
     "data": {
      "text/plain": [
       "'3.1.1'"
      ]
     },
     "execution_count": 3,
     "metadata": {},
     "output_type": "execute_result"
    }
   ],
   "source": [
    "mpl.__version__"
   ]
  },
  {
   "cell_type": "markdown",
   "metadata": {},
   "source": [
    "## Interactive Python Debugging Tool (module: pdb or ipdb):\n",
    "### Step by step execution"
   ]
  },
  {
   "cell_type": "markdown",
   "metadata": {},
   "source": [
    "Esp. useful commands in pdb/ipdb\n",
    "\n",
    "- n(ext)\n",
    "- s(tep)\n",
    "- p(rint)\n",
    "- unt(il)\n",
    "- c(ontinue)\n",
    "- l(ist)\n",
    "- w(here)\n",
    "- h(elp)\n",
    "- q(uit)\n",
    "\n",
    "You can get full list by googling \"python pdb\" or \"python ipdb\".\n",
    "\n",
    "For ipdb, you may need to do \n",
    "\n",
    "       > pip install ipdb"
   ]
  },
  {
   "cell_type": "code",
   "execution_count": null,
   "metadata": {},
   "outputs": [],
   "source": [
    "'''\n",
    "The code below is supposed to compute the average of a list of numbers, \n",
    "but it doesn't work.\n",
    "\n",
    "Broken code!\n",
    "\n",
    "'''\n",
    "\n",
    "def mean(nums):\n",
    "    bot = len(nums)\n",
    "    idx = 0\n",
    "    top = 0\n",
    "    while idx < len(nums):\n",
    "        top += nums[idx]\n",
    "    return top/bot\n",
    "\n",
    "a_list = [1, 2, 3, 4, 5, 6, 10, \"one hundred\"]\n",
    "avg = mean(a_list)\n",
    "print(avg)\n",
    "print('DONE!')\n",
    "# Won't run!"
   ]
  },
  {
   "cell_type": "code",
   "execution_count": null,
   "metadata": {},
   "outputs": [],
   "source": [
    "from pdb import set_trace\n",
    "def mean(nums):\n",
    "    set_trace()   # This sets a break point.\n",
    "    bot = len(nums)\n",
    "    idx = 0\n",
    "    top = 0\n",
    "    while idx < len(nums):\n",
    "        top += nums[idx]\n",
    "    return top / bot\n",
    "\n",
    "a_list = [1, 2, 3, 4, 5, 6, 10, \"one hundred\"]\n",
    "avg = mean(a_list)\n",
    "print(avg)\n",
    "print('DONE!')\n",
    "# Won't run!\n",
    "#mean(a_list)"
   ]
  },
  {
   "cell_type": "code",
   "execution_count": null,
   "metadata": {},
   "outputs": [],
   "source": [
    "def mean(nums):\n",
    "    bot = len(nums)\n",
    "    idx = 0\n",
    "    top = 0\n",
    "    print(idx)\n",
    "    while idx < len(nums):\n",
    "        top += nums[idx]\n",
    "        idx += 1\n",
    "        print(idx)\n",
    "    return top / bot\n",
    "\n",
    "a_list = [1, 2, 3, 4, 5, 6, 10, \"one hundred\"]\n",
    "avg = mean(a_list)\n",
    "print(avg)\n",
    "print('DONE!')\n",
    "# Won't run!\n",
    "#mean(a_list)"
   ]
  },
  {
   "cell_type": "code",
   "execution_count": null,
   "metadata": {},
   "outputs": [],
   "source": [
    "def mean(nums):\n",
    "    bot = len(nums)\n",
    "    idx = 0\n",
    "    top = 0\n",
    "    print(idx)\n",
    "    while idx < len(nums):\n",
    "        top += nums[idx]\n",
    "        idx += 1\n",
    "        print(idx)\n",
    "    return top / bot\n",
    "\n",
    "a_list = [1, 2, 3, 4, 5, 6, 10, 100]\n",
    "avg = mean(a_list)\n",
    "print(avg)\n",
    "print('DONE!')\n"
   ]
  },
  {
   "cell_type": "code",
   "execution_count": null,
   "metadata": {},
   "outputs": [],
   "source": [
    "# cleanup and add a docstring -- you will be graded for style as well as functionality\n",
    "def mean(nums):\n",
    "    '''A function that calculates the mean of a list of numbers'''\n",
    "    bot = len(nums)\n",
    "    idx = 0\n",
    "    top = 0\n",
    "    while idx < bot:\n",
    "        top += nums[idx]\n",
    "        idx += 1\n",
    "    return top / bot\n",
    "\n",
    "a_list = [1, 2, 3, 4, 5, 6, 10, 100]\n",
    "avg = mean(a_list)\n",
    "print(avg)\n",
    "print('DONE!')"
   ]
  },
  {
   "cell_type": "markdown",
   "metadata": {},
   "source": [
    "## Breakout Excercise:  Use pdb to debug the program practice_pdb_series_expansion.py\n"
   ]
  },
  {
   "cell_type": "code",
   "execution_count": null,
   "metadata": {},
   "outputs": [],
   "source": [
    "'''\n",
    "    \n",
    "    Note: this is a series expansion, but a Taylor Series!\n",
    "    The usual Taylor series for log(1+x) has a converge range of -1<x<=1\n",
    "    This is based on ln(x) = sum( (1/n) ((x-1)/x)^n ) -- replacing x by x + 1, \n",
    "    we get the formula below.\n",
    "    \n",
    "    But it doesn't work.  Use set_trace(), step through the program, print out \n",
    "    the values of certain variables to help you figure out what the problem is.\n",
    "    \n",
    "'''\n",
    "\n",
    "\n",
    "from pdb import set_trace\n",
    "\n",
    "def L(x, n):\n",
    "    for i in range(1, n + 1):\n",
    "        approx += (1/(i+1))*(x/(1+x))**(i+1)\n",
    "    return approx\n",
    "\n",
    "\n",
    "x = 2\n",
    "approx = 0\n",
    "y = L(x, 100)\n",
    "print('Series Expansion Approximation:', y)\n",
    "from math import log  #you would guess math module would have log...yes!\n",
    "exact_val = log(1+x)\n",
    "print('exact_val', exact_val)\n",
    "from math import log1p  #more accurate for small x.\n",
    "print('log1p output', log1p(x))"
   ]
  },
  {
   "cell_type": "markdown",
   "metadata": {},
   "source": [
    "## Numerical Derivative"
   ]
  },
  {
   "cell_type": "code",
   "execution_count": null,
   "metadata": {},
   "outputs": [],
   "source": [
    "def g(t):\n",
    "    return t**(-6)\n",
    "print(g(2))"
   ]
  },
  {
   "cell_type": "markdown",
   "metadata": {},
   "source": [
    "## Mini-Breakout Exercise\n",
    "\n",
    "### 1. Find the value of g(t) at t = 2\n",
    "### 2. How do you compute the derivative of g(t) around t = 2?"
   ]
  },
  {
   "cell_type": "markdown",
   "metadata": {},
   "source": [
    "## Mini-breakout Exercise\n",
    "\n",
    "### Write a function deriv2() that computes the 2nd derivative of a function"
   ]
  },
  {
   "cell_type": "markdown",
   "metadata": {},
   "source": [
    "## Numerical Instability and Arbitrary Precision"
   ]
  },
  {
   "cell_type": "code",
   "execution_count": null,
   "metadata": {},
   "outputs": [],
   "source": [
    "def g(t):\n",
    "    return t**(-6)\n",
    "\n",
    "\n",
    "for k in range(1, 15):\n",
    "    h = 10**(-k)\n",
    "    d2g = deriv2(g, 1, h)\n",
    "    print('h = {:.0e}: {:.5g}'.format(h, d2g))"
   ]
  },
  {
   "cell_type": "code",
   "execution_count": null,
   "metadata": {},
   "outputs": [],
   "source": [
    "'''\n",
    "To get everything right use arbitrary precision\n",
    "this is a lazy approach; works, but may not be the fastest way.\n",
    "'''\n",
    "\n",
    "import decimal                  # floats with arbitrarily many digits\n",
    "decimal.getcontext().prec = 30  # use 25 digits\n",
    "D = decimal.Decimal             # short form for new float type\n",
    "\n",
    "def deriv2(f, x, h=1e-9):\n",
    "    x = D(str(x));  h = D(str(h))  # convert to high precision\n",
    "    f_dblpr = (f(x-h) - 2*f(x) + f(x+h))/(h*h)\n",
    "    return f_dblpr\n",
    "\n",
    "for k in range(1,15):\n",
    "    h = 10**(-k)\n",
    "    print('h = {:.0e}: {:.5g}'.format(h, deriv2(g, 1, h)))"
   ]
  },
  {
   "cell_type": "markdown",
   "metadata": {},
   "source": [
    "## lambda function"
   ]
  },
  {
   "cell_type": "code",
   "execution_count": null,
   "metadata": {},
   "outputs": [],
   "source": [
    "# these two are equivalent \n",
    "\n",
    "func = lambda x: x**2 + 4\n",
    "\n",
    "def f(x):\n",
    "    return x**2 + 4\n",
    "\n",
    "# Generally speaking, don't define a function inside \n",
    "# another function, except for when it's short.\n",
    "# And preferrably, use the lambda function\n",
    "\n",
    "print(func(3))\n",
    "print(f(3))"
   ]
  },
  {
   "cell_type": "markdown",
   "metadata": {},
   "source": [
    "## Mini-breakout Exercise:\n",
    "- ### Write the function g() above using lambda function -- call it g_lamb().\n",
    "- ### Test and see if it gives you the same results as g()"
   ]
  },
  {
   "cell_type": "code",
   "execution_count": null,
   "metadata": {
    "collapsed": true
   },
   "outputs": [],
   "source": [
    "# Compact if statement\n",
    "x = 3\n",
    "a = 2 if x < 1 else 0"
   ]
  },
  {
   "cell_type": "code",
   "execution_count": null,
   "metadata": {},
   "outputs": [],
   "source": [
    "# more sophisticated usage of lambda function:\n",
    "from math import pi, sin\n",
    "x = 1.5\n",
    "f = lambda x: sin(x) if 0 <= x <= 2*pi else 0\n",
    "print(f(x))\n",
    "print(f(7))"
   ]
  },
  {
   "cell_type": "markdown",
   "metadata": {},
   "source": [
    "## Doctest\n",
    "\n",
    "### Doctest example: See deriv_doctest.py\n"
   ]
  },
  {
   "cell_type": "markdown",
   "metadata": {},
   "source": [
    "## Breakout Exercise\n",
    "\n",
    "- ### Write a function that computes the factorial of an integer.\n",
    "- ### There should be a doctest that tests the factorials of 4.\n",
    "- ### Change (and improve) the doctest so that it tests the factorials of 0, 1, 2, 3, 4, 5 -- use list comprehension"
   ]
  },
  {
   "cell_type": "markdown",
   "metadata": {},
   "source": [
    "## End of Week3-1"
   ]
  }
 ],
 "metadata": {
  "kernelspec": {
   "display_name": "Python 3",
   "language": "python",
   "name": "python3"
  },
  "language_info": {
   "codemirror_mode": {
    "name": "ipython",
    "version": 3
   },
   "file_extension": ".py",
   "mimetype": "text/x-python",
   "name": "python",
   "nbconvert_exporter": "python",
   "pygments_lexer": "ipython3",
   "version": "3.7.4"
  }
 },
 "nbformat": 4,
 "nbformat_minor": 1
}
