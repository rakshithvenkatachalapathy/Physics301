{
 "cells": [
  {
   "cell_type": "markdown",
   "metadata": {},
   "source": [
    "# Topics\n",
    "\n",
    "## 1. \"is equal to\" vs. \"is\" \n",
    "## 2. List Comprehension\n",
    "## 3. Nested Lists \n",
    "## 4. Tuples\n",
    "## 5. Functions"
   ]
  },
  {
   "cell_type": "code",
   "execution_count": 1,
   "metadata": {},
   "outputs": [
    {
     "data": {
      "text/plain": [
       "25"
      ]
     },
     "execution_count": 1,
     "metadata": {},
     "output_type": "execute_result"
    }
   ],
   "source": [
    "'''\n",
    "Tuples practise\n",
    "'''\n",
    "coords =(25,58,26)\n",
    "coords[0]"
   ]
  },
  {
   "cell_type": "code",
   "execution_count": 4,
   "metadata": {},
   "outputs": [
    {
     "data": {
      "text/plain": [
       "25"
      ]
     },
     "execution_count": 4,
     "metadata": {},
     "output_type": "execute_result"
    }
   ],
   "source": [
    "coords[0] "
   ]
  },
  {
   "cell_type": "code",
   "execution_count": 13,
   "metadata": {},
   "outputs": [],
   "source": [
    "'''\n",
    "Dictonaries\n",
    "'''\n",
    "\n",
    "countries = {'US' : 'united sates', 'CA' : 'Canada', 'MX' : 'Mexico'}\n",
    "#countries\n",
    "countries['CA']\n",
    "countries['VE'] = 'Venzuela'\n",
    "countries\n",
    "\n",
    "'VE' in countries \n",
    "countries.keys()\n",
    "countries.values()\n",
    "countries.items()\n",
    "countries.get('IT')"
   ]
  },
  {
   "cell_type": "code",
   "execution_count": 30,
   "metadata": {},
   "outputs": [
    {
     "name": "stdout",
     "output_type": "stream",
     "text": [
      "-\n",
      "1\n",
      "-\n",
      "2\n",
      "-\n",
      "3\n",
      "-\n",
      "4\n",
      "-\n",
      "5\n"
     ]
    }
   ],
   "source": [
    "'''\n",
    "for loops\n",
    "'''\n",
    "num= [1,2,3,4,5]\n",
    "for i in num:\n",
    "    print('-')\n",
    "    print (i)\n",
    "    \n"
   ]
  },
  {
   "cell_type": "code",
   "execution_count": 17,
   "metadata": {},
   "outputs": [
    {
     "name": "stdout",
     "output_type": "stream",
     "text": [
      "a\n",
      "b\n",
      "c\n",
      "1\n",
      "2\n",
      "3\n",
      "a 1\n",
      "a1\n",
      "b 2\n",
      "b2\n",
      "c 3\n",
      "c3\n"
     ]
    }
   ],
   "source": [
    "num = {'a':'1' , 'b' : '2', 'c':'3'}\n",
    "for i in num:\n",
    "    print(i)\n",
    "\n",
    "for v in num.values():\n",
    "    print (v)\n",
    "    \n",
    "for(key, val) in num.items():\n",
    "    print(key,val)\n",
    "    print(key+val)"
   ]
  },
  {
   "cell_type": "code",
   "execution_count": 22,
   "metadata": {},
   "outputs": [
    {
     "name": "stdout",
     "output_type": "stream",
     "text": [
      "1\n",
      "2\n",
      "3\n",
      "4\n",
      "5\n"
     ]
    }
   ],
   "source": [
    "'''\n",
    "while loop\n",
    "'''\n",
    "i =0 \n",
    "while i<5:\n",
    "    i+=1\n",
    "    print(i)\n",
    "    "
   ]
  },
  {
   "cell_type": "code",
   "execution_count": 23,
   "metadata": {},
   "outputs": [
    {
     "name": "stdout",
     "output_type": "stream",
     "text": [
      "0\n",
      "1\n",
      "2\n",
      "3\n",
      "4\n",
      "5\n",
      "6\n",
      "7\n",
      "8\n",
      "9\n"
     ]
    }
   ],
   "source": [
    "ids= range(0,10)\n",
    "for i in ids:\n",
    "    print(i)"
   ]
  },
  {
   "cell_type": "code",
   "execution_count": 24,
   "metadata": {},
   "outputs": [
    {
     "name": "stdout",
     "output_type": "stream",
     "text": [
      "1\n",
      "2\n",
      "3\n",
      "4\n",
      "5\n",
      "6\n",
      "7\n",
      "8\n",
      "9\n",
      "10\n"
     ]
    }
   ],
   "source": [
    "j=0\n",
    "while j<10:\n",
    "    j+=1\n",
    "    print (j)"
   ]
  },
  {
   "cell_type": "code",
   "execution_count": 25,
   "metadata": {},
   "outputs": [
    {
     "data": {
      "text/plain": [
       "True"
      ]
     },
     "execution_count": 25,
     "metadata": {},
     "output_type": "execute_result"
    }
   ],
   "source": [
    "x='John'\n",
    "y='john'\n",
    "x.lower() == y.lower()\n"
   ]
  },
  {
   "cell_type": "code",
   "execution_count": 27,
   "metadata": {},
   "outputs": [
    {
     "name": "stdout",
     "output_type": "stream",
     "text": [
      "its rak\n"
     ]
    }
   ],
   "source": [
    "name='rak'\n",
    "if name=='james':\n",
    "    print('its james')\n",
    "elif name=='rak':\n",
    "    print ('its rak')\n",
    "else:\n",
    "    print('its john')"
   ]
  },
  {
   "cell_type": "code",
   "execution_count": 29,
   "metadata": {},
   "outputs": [
    {
     "name": "stdout",
     "output_type": "stream",
     "text": [
      "1\n",
      "3\n",
      "5\n",
      "7\n",
      "9\n"
     ]
    }
   ],
   "source": [
    "vals= range(1,11)\n",
    "for v in vals:\n",
    "    \n",
    "    if v % 2==0:\n",
    "        continue \n",
    "        \n",
    "    else:\n",
    "         print(v)\n",
    "        \n"
   ]
  },
  {
   "cell_type": "code",
   "execution_count": 35,
   "metadata": {},
   "outputs": [
    {
     "name": "stdout",
     "output_type": "stream",
     "text": [
      "[1, 2, 3, 4, 5]\n",
      "[5, 4, 3, 2, 1]\n"
     ]
    }
   ],
   "source": [
    "print(num)\n",
    "revnum=[]\n",
    "i = len(num)\n",
    "while i!= 0:\n",
    "    revnum.append(i)\n",
    "    i-=1\n",
    "print(revnum)\n",
    "\n"
   ]
  },
  {
   "cell_type": "code",
   "execution_count": 42,
   "metadata": {},
   "outputs": [
    {
     "name": "stdout",
     "output_type": "stream",
     "text": [
      "2020\n",
      "1\n"
     ]
    },
    {
     "data": {
      "text/plain": [
       "datetime.datetime"
      ]
     },
     "execution_count": 42,
     "metadata": {},
     "output_type": "execute_result"
    }
   ],
   "source": [
    "'''\n",
    "date library\n",
    "'''\n",
    "from datetime import datetime\n",
    "datetime.today()\n",
    "today = datetime.today()\n",
    "print(today.year)\n",
    "print(today.month)\n",
    "type(today)"
   ]
  },
  {
   "cell_type": "code",
   "execution_count": 45,
   "metadata": {},
   "outputs": [
    {
     "data": {
      "text/plain": [
       "10242"
      ]
     },
     "execution_count": 45,
     "metadata": {},
     "output_type": "execute_result"
    }
   ],
   "source": [
    "was_born = datetime(1992,1,14)\n",
    "age = today - was_born\n",
    "age.days"
   ]
  },
  {
   "cell_type": "code",
   "execution_count": 47,
   "metadata": {},
   "outputs": [
    {
     "data": {
      "text/plain": [
       "datetime.datetime(2020, 1, 30, 6, 50, 5, 573696)"
      ]
     },
     "execution_count": 47,
     "metadata": {},
     "output_type": "execute_result"
    }
   ],
   "source": [
    "from datetime import timedelta\n",
    "today+timedelta(days = 7)\n",
    "datetime.utcnow()"
   ]
  },
  {
   "cell_type": "code",
   "execution_count": 54,
   "metadata": {},
   "outputs": [
    {
     "name": "stdout",
     "output_type": "stream",
     "text": [
      "hellow rak venka 6666\n",
      "hellow adsd sads\n"
     ]
    }
   ],
   "source": [
    "def myfunc(fname, lname, ph=None):\n",
    "    if ph is not None:\n",
    "        print (f'hellow {fname} {lname} {ph}')\n",
    "    else:\n",
    "         print (f'hellow {fname} {lname}')\n",
    "    \n",
    "myfunc('rak' ,'venka','6666')\n",
    "myfunc('adsd','sads')"
   ]
  },
  {
   "cell_type": "code",
   "execution_count": null,
   "metadata": {},
   "outputs": [],
   "source": []
  }
 ],
 "metadata": {
  "kernelspec": {
   "display_name": "Python 3",
   "language": "python",
   "name": "python3"
  },
  "language_info": {
   "codemirror_mode": {
    "name": "ipython",
    "version": 3
   },
   "file_extension": ".py",
   "mimetype": "text/x-python",
   "name": "python",
   "nbconvert_exporter": "python",
   "pygments_lexer": "ipython3",
   "version": "3.7.4"
  }
 },
 "nbformat": 4,
 "nbformat_minor": 1
}
