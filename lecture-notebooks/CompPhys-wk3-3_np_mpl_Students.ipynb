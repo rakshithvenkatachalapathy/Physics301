{
 "cells": [
  {
   "cell_type": "markdown",
   "metadata": {},
   "source": [
    "# Topics\n",
    "\n",
    "## 1. Numpy and Arrays\n",
    "## 2. Matplotlib"
   ]
  },
  {
   "cell_type": "code",
   "execution_count": 4,
   "metadata": {},
   "outputs": [],
   "source": [
    "import numpy as np\n",
    "\n",
    "# New import below\n",
    "import matplotlib.pyplot as plt"
   ]
  },
  {
   "cell_type": "code",
   "execution_count": 3,
   "metadata": {},
   "outputs": [
    {
     "name": "stdout",
     "output_type": "stream",
     "text": [
      "b == a: True\n",
      "b is a: True\n",
      "c == a: True\n",
      "c is a: False\n",
      "d == a: True\n",
      "d is a: False\n",
      "a =  [0, 2, 0, 0, 0, 0, 0, 0, 0, 0]\n",
      "b =  [0, 2, 0, 0, 0, 0, 0, 0, 0, 0]\n",
      "c =  [0, 0, 0, 0, 0, 0, 0, 0, 0, 0]\n",
      "d =  [0, 0, 0, 0, 0, 0, 0, 0, 0, 0]\n",
      "e =  [0, 0, 0, 0, 0, 0, 0, 0]\n"
     ]
    }
   ],
   "source": [
    "'''\n",
    "Recall the question of \"is\" versus \"==\" for lists\n",
    "\n",
    "'''\n",
    "from copy import copy\n",
    "a = [0]*10\n",
    "b = a\n",
    "c = a[:]\n",
    "d = copy(a)\n",
    "e = a[1:-1]\n",
    "print('b == a:', b == a)\n",
    "print('b is a:', b is a)\n",
    "print('c == a:', c == a)\n",
    "print('c is a:', c is a)\n",
    "print('d == a:', d == a)\n",
    "print('d is a:', d is a)\n",
    "\n",
    "#The following shows clearly a and b point to the same object -- i.e. they are the same object.\n",
    "#And that neither c nor d is the same object as a. e is aso decoupled from a or b.\n",
    "a[1] = 2\n",
    "print('a = ', a)\n",
    "print('b = ', b)\n",
    "print('c = ', c)\n",
    "print('d = ', c)\n",
    "print('e = ', e)"
   ]
  },
  {
   "cell_type": "code",
   "execution_count": 5,
   "metadata": {},
   "outputs": [
    {
     "name": "stdout",
     "output_type": "stream",
     "text": [
      "b == a: [ True  True  True  True  True  True  True  True  True  True]\n",
      "b is a: True\n",
      "c == a: [ True  True  True  True  True  True  True  True  True  True]\n",
      "c is a: False\n",
      "d == a: [ True  True  True  True  True  True  True  True  True  True]\n",
      "d is a: False\n",
      "a = [0.  0.  0.  0.2 0.  0.  0.  0.  0.  0. ]\n",
      "b = [0.  0.  0.  0.2 0.  0.  0.  0.  0.  0. ]\n",
      "c = [0.  0.  0.  0.2 0.  0.  0.  0.  0.  0. ]\n",
      "d = [0. 0. 0. 0. 0. 0. 0. 0. 0. 0.]\n",
      "e = [0.  0.  0.2 0.  0.  0.  0.  0. ]\n"
     ]
    }
   ],
   "source": [
    "'''\n",
    "The \"is\" versus \"==\" question for arrays\n",
    "'''\n",
    "a = np.zeros(10)\n",
    "b = a\n",
    "c = a[:]\n",
    "d = copy(a)\n",
    "e = a[1:-1]\n",
    "\n",
    "print('b == a:', b == a)\n",
    "print('b is a:', b is a)\n",
    "print('c == a:', c == a)\n",
    "print('c is a:', c is a)\n",
    "print('d == a:', d == a)\n",
    "print('d is a:', d is a)\n",
    "\n",
    "# The following shows only d is a copy -- notably, it's confusing whether c is a copy or not! \n",
    "# Even e is pointing to a!\n",
    "# LESSON: if you really want to create a copy, use the copy module.\n",
    "a[3] = 0.2\n",
    "print('a =', a)\n",
    "print('b =', b)\n",
    "print('c =', c)\n",
    "print('d =', d)\n",
    "print('e =', e)"
   ]
  },
  {
   "cell_type": "markdown",
   "metadata": {},
   "source": [
    "## Breakout Problem:\n",
    "### 1. Write a function that creates an array of temperature values in Celsius -- with a start temperature, an end temperature, and the number of steps in between -- and then compute the Fahrenheit equivalents (a new array).  \n",
    "### 2. Write another function that does it the list comprehension way.    \n",
    "### 3. Both functions should take three variables: Tstart, Tend, numsteps"
   ]
  },
  {
   "cell_type": "code",
   "execution_count": 19,
   "metadata": {},
   "outputs": [
    {
     "name": "stdout",
     "output_type": "stream",
     "text": [
      "[0.0, -10.0, -20.0, -30.0, -40.0, -50.0, -60.0, -70.0, -80.0, -90.0]\n",
      "[32.0, 14.0, -4.0, -22.0, -40.0, -58.0, -76.0, -94.0, -112.0, -130.0]\n"
     ]
    }
   ],
   "source": [
    "def CtoF(Tstart ,Tend , numsteps):\n",
    "#    Celcius = [Tstart+numsteps range(Tstart,Tend)]\n",
    "    \n",
    "    Cdeg = [Tstart+i*(Tstart-Tend)/numsteps for i in range(numsteps)]\n",
    "    #print (Celcius) [c*9./5+32. for c in Cdeg]\n",
    "    print (Cdeg)\n",
    "\n",
    "    lst = [ 9.0*c/5+32. for c in Cdeg]\n",
    "        \n",
    "    return lst\n",
    "\n",
    "print(CtoF(0,100,10))\n",
    "\n",
    "def CtoFnp(Tstart , Tend , numsteps):\n",
    "    Celcius = np.linspace(Tstart, Tend, numsteps )\n",
    "    Fdeg = [c*9./5+32. for c in Celcius]\n",
    "    return Fdeg\n",
    "\n"
   ]
  },
  {
   "cell_type": "code",
   "execution_count": null,
   "metadata": {},
   "outputs": [],
   "source": []
  },
  {
   "cell_type": "code",
   "execution_count": null,
   "metadata": {},
   "outputs": [],
   "source": [
    "Tstart = 0.\n",
    "Tend = 100\n",
    "numsteps = 1001  #change steps from 11, to 101, to 1001\n",
    "%timeit convert_temp(Tstart, Tend, numsteps)   #if one tries 11 loops the list-comprehension way actually wins.  \n",
    "                                               # the larger the number, the faster the array way.\n",
    "%timeit convert_temp_arr(Tstart, Tend, numsteps)"
   ]
  },
  {
   "cell_type": "markdown",
   "metadata": {},
   "source": [
    "## Explicit Specification of Numpy Data Type"
   ]
  },
  {
   "cell_type": "code",
   "execution_count": 22,
   "metadata": {},
   "outputs": [
    {
     "name": "stdout",
     "output_type": "stream",
     "text": [
      "<class 'numpy.ndarray'> float64\n",
      "[0. 1. 2. 3. 4. 5. 6. 7. 8. 9.]\n",
      "<class 'numpy.ndarray'> int64\n",
      "Array of default integers [0 1 2 3 4 5 6 7 8 9]\n",
      "<class 'numpy.ndarray'> int8\n",
      "Array of 8-bit integers [0 1 2 3 4 5 6 7 8 9]\n",
      "256\n",
      "0\n"
     ]
    }
   ],
   "source": [
    "# arange is a \"generalize range\" that can handle floats\n",
    "x = np.arange(0, 10, 1.)\n",
    "print(type(x), x.dtype)\n",
    "print(x)\n",
    "\n",
    "y = np.arange(0, 10, 1)\n",
    "print(type(y), y.dtype)\n",
    "print('Array of default integers', y)\n",
    "\n",
    "y_8 = np.arange(0, 10, 1, dtype = np.int8)\n",
    "print(type(y_8), y_8.dtype)\n",
    "print('Array of 8-bit integers', y_8)\n",
    "\n",
    "# print(\"Difference betwee 64-bit and 8-bit integer:\")\n",
    "# # try idx = 6, 7, 8\n",
    "idx = 8\n",
    "print((y[2]**y[idx]))\n",
    "print((y_8[2]**y_8[idx]))"
   ]
  },
  {
   "cell_type": "code",
   "execution_count": null,
   "metadata": {},
   "outputs": [],
   "source": [
    "# printing numbers using their binary representation\n",
    "# use 128 and then 127 and see what happens\n",
    "print('{0:b}'.format(np.int8(127)))\n",
    "print('{0:b}'.format(np.int8(-127)))"
   ]
  },
  {
   "cell_type": "markdown",
   "metadata": {},
   "source": [
    "## The reason:\n",
    "\n",
    "\"int8\tByte (-128 to 127)\"\n",
    "\n",
    "(From https://docs.scipy.org/doc/numpy-1.13.0/user/basics.types.html)\n",
    "\n",
    "## You can use 8 bits to represent 0 to 255 or -128 to 127.  \n",
    "\n",
    "## Another way to think about this:\n",
    "\n",
    "    127 = 01111111\n",
    "\n",
    "## That last digit at the front, you can either use it to take you to 255 or you can use it as to specify the sign.\n",
    "\n",
    "## One implication: there is no +128;  or +128 and -128 are the same: \n",
    "\n",
    "    suppose 0 = \"-\", 1 = \"+\"\n",
    "\n",
    "    (-127) = 01111111  --> (-128) = 10000000    # you don't change the sign bit\n",
    "    \n",
    "    This would be the same as +128\n",
    "    \n",
    "## The binary representation is -10000000 because only -128 exists.\n",
    "\n",
    "## Caution: Sign convention can be different.  On some systems, it may be -127 to 128.  \n",
    "\n"
   ]
  },
  {
   "cell_type": "code",
   "execution_count": null,
   "metadata": {},
   "outputs": [],
   "source": [
    "# ues intg = 64, 128\n",
    "intg = 64\n",
    "print(np.int8(-intg) == np.int8(intg))\n",
    "\n",
    "print('Is it really that strange?')\n",
    "print('Binary Representation (for 128, you only see the negative version b/c only -128 exists):')\n",
    "print('{0:b}'.format(np.int8(intg)))\n",
    "print('{0:b}'.format(np.int8(-intg)))\n"
   ]
  },
  {
   "cell_type": "code",
   "execution_count": null,
   "metadata": {},
   "outputs": [],
   "source": [
    "#******Don't run it -- first, predict what you are going to get*****\n",
    "\n",
    "intg = 256\n",
    "print(np.int8(intg))\n"
   ]
  },
  {
   "cell_type": "markdown",
   "metadata": {},
   "source": [
    "\n",
    "## To see all data types: Google \"numpy data type\", and click on the one that says, \n",
    "\n",
    "Data types — NumPy v1.x Manual"
   ]
  },
  {
   "cell_type": "markdown",
   "metadata": {},
   "source": [
    "## To find out numpy version"
   ]
  },
  {
   "cell_type": "code",
   "execution_count": 23,
   "metadata": {},
   "outputs": [
    {
     "data": {
      "text/plain": [
       "'1.17.2'"
      ]
     },
     "execution_count": 23,
     "metadata": {},
     "output_type": "execute_result"
    }
   ],
   "source": [
    "np.__version__"
   ]
  },
  {
   "cell_type": "markdown",
   "metadata": {},
   "source": [
    "## Array Indexing"
   ]
  },
  {
   "cell_type": "code",
   "execution_count": 25,
   "metadata": {},
   "outputs": [
    {
     "name": "stdout",
     "output_type": "stream",
     "text": [
      "[ 0.  1.  2.  3.  4.  5.  6.  7.  8.  9. 10.]\n",
      "[False False False False False False False  True  True  True  True]\n",
      "number of elements with value greater than 6: 4\n",
      "[ 7.  8.  9. 10.]\n"
     ]
    }
   ],
   "source": [
    "x = np.linspace(0, 10, 11)\n",
    "idx1 = x > 6\n",
    "print(x)\n",
    "print(idx1)\n",
    "print('number of elements with value greater than 6:', sum(idx1))\n",
    "y = x[idx1]\n",
    "print(y)"
   ]
  },
  {
   "cell_type": "code",
   "execution_count": null,
   "metadata": {},
   "outputs": [],
   "source": [
    "x[idx1] = 11\n",
    "print(x)"
   ]
  },
  {
   "cell_type": "code",
   "execution_count": 26,
   "metadata": {},
   "outputs": [
    {
     "name": "stdout",
     "output_type": "stream",
     "text": [
      "(array([ 7,  8,  9, 10]),)\n",
      "idx: (array([ 7,  8,  9, 10]),)\n",
      "idx: [ 7  8  9 10]\n",
      "number of elements with value greater than 6: 1\n",
      "number of elements with value greater than 6: 4\n",
      "[ 7.  8.  9. 10.]\n"
     ]
    }
   ],
   "source": [
    "'''Alternatively, use np.where()'''\n",
    "x = np.linspace(0, 10, 11)\n",
    "idx = np.where(x > 6)\n",
    "print (idx)\n",
    "print('idx:', idx)\n",
    "print('idx:', idx[0])\n",
    "# This could have easily been a bug!\n",
    "print('number of elements with value greater than 6:', len(idx))\n",
    "print('number of elements with value greater than 6:', len(idx[0]))\n",
    "y = x[idx]\n",
    "print(y)"
   ]
  },
  {
   "cell_type": "markdown",
   "metadata": {},
   "source": [
    "## Mini-Breakout Exercise\n",
    "\n",
    "- ### Define an array, x, with 31 elements bewteen 1 and 4 (inclusive)\n",
    "- ### Find a new array, y, each element of which is the corresponding element in x squared\n",
    "- ### Find x1 -- it should consist of the elements in x that are between 2 and 3 (inclusive)\n",
    "- ### Find y1 -- it should consist of the elements in y that correspond to the x elements that are between 2 and 3 (inclusive); but you can't do $y1 = x1^2$\n",
    "- ### You may use the boolean array method or np.where()\n",
    "- ### Print x1 and y1 on two separate lines"
   ]
  },
  {
   "cell_type": "code",
   "execution_count": null,
   "metadata": {},
   "outputs": [],
   "source": [
    "x= np.linspace(1,4,31)\n",
    "y= x**2\n",
    "\n"
   ]
  },
  {
   "cell_type": "markdown",
   "metadata": {},
   "source": [
    "## Module for Plotting -- matplotlib"
   ]
  },
  {
   "cell_type": "code",
   "execution_count": null,
   "metadata": {},
   "outputs": [],
   "source": [
    "%matplotlib inline\n",
    "\n",
    "y = np.linspace(0, 5, 101)\n",
    "# x (the i) is assumed to be the index \n",
    "plt.plot(y)\n",
    "# note: one can plot two curves in a single figure\n",
    "plt.plot(np.sqrt(y))\n",
    "plt.show()"
   ]
  },
  {
   "cell_type": "code",
   "execution_count": null,
   "metadata": {},
   "outputs": [],
   "source": [
    "%matplotlib inline\n",
    "''' \n",
    "\"Bells and whistles\" of plotting\n",
    "\n",
    "'''\n",
    "\n",
    "import numpy as np\n",
    "import matplotlib.pyplot as plt\n",
    "y = np.linspace(1e-6, 15, 1000)  # why do I start at 1e-6 and not 0?\n",
    "b = y**3/(np.exp(y)-1)\n",
    "plt.plot(y,b)\n",
    "plt.xlabel('Frequencey')\n",
    "plt.ylabel('Energy Density')\n",
    "plt.title('Black Body Spectrum')\n",
    "# can save figure as pdf (other formats) -- you should check!\n",
    "plt.savefig('planck.pdf')\n",
    "plt.show()"
   ]
  },
  {
   "cell_type": "code",
   "execution_count": null,
   "metadata": {},
   "outputs": [],
   "source": [
    "%matplotlib inline\n",
    "'''\n",
    "If you want to be fancy...Don't try this at home yet!\n",
    "\n",
    "*--------->for some students: Maybe it's the matplotlib verions??  <-------------------\n",
    "\n",
    "'''\n",
    "import numpy as np\n",
    "import matplotlib.pyplot as plt\n",
    "from matplotlib import rcParams\n",
    "\n",
    "rcParams['text.usetex'] = True\n",
    "\n",
    "y = np.linspace(1e-6, 15, 1000)  \n",
    "b = y**3/(np.exp(y)-1)\n",
    "plt.plot(y, b, lw = 2)\n",
    "plt.xlabel(r'$Frequencey$', fontsize = 15)\n",
    "plt.ylabel(r'$Energy\\, Density$', fontsize = 15)\n",
    "## \\displaystyle is necessary for showing symbols in quotient the same size as other symbols.\n",
    "plt.text(5., 1.2, r'$\\displaystyle B(f, T) = \\frac{y^3}{e^y-1},\\, y = hf/kT$', \n",
    "         fontsize = 15, color = 'b')\n",
    "plt.title(r'$\\mathrm{Black\\, Body\\, Spectrum}$', fontsize = 20)\n",
    "#plt.savefig('planck.pdf')\n",
    "plt.show()\n"
   ]
  },
  {
   "cell_type": "code",
   "execution_count": null,
   "metadata": {
    "collapsed": true
   },
   "outputs": [],
   "source": [
    "# try this import -- does it work?\n",
    "#from matplotlib import rc\n",
    "# How about this one?\n",
    "from matplotlib import rc, rcParams"
   ]
  },
  {
   "cell_type": "code",
   "execution_count": null,
   "metadata": {},
   "outputs": [],
   "source": [
    "%matplotlib inline\n",
    "'''If the above cell didn't work for you, try this one. '''\n",
    "\n",
    "from matplotlib import rc\n",
    "rc('xtick', labelsize=12)\n",
    "rc('ytick', labelsize=12)\n",
    "\n",
    "rc('text', usetex=True)\n",
    "rc('font', family='serif')\n",
    "\n",
    "y = np.linspace(1e-6, 15, 1000)  \n",
    "b = y**3/(np.exp(y)-1)\n",
    "plt.plot(y, b, lw = 2)\n",
    "plt.xlabel(r'$Frequencey$', fontsize = 15)\n",
    "plt.ylabel(r'$Energy\\, Density$', fontsize = 15)\n",
    "plt.text(5., 1.2, r'$\\displaystyle B(f, T) = \\frac{y^3}{e^y-1},\\, y = hf/kT$', \n",
    "         fontsize = 15, color = 'b')\n",
    "plt.title(r'$\\mathrm{Black\\, Body\\, Spectrum}$', fontsize = 20)\n",
    "#plt.savefig('planck.pdf')\n",
    "plt.show()\n",
    "\n"
   ]
  },
  {
   "cell_type": "markdown",
   "metadata": {},
   "source": [
    "## Breakout Exercise: Plot the function $y(x) = cos(2x + 1)$ and $z(x) =\n",
    "cos(-e^x)$ between 0 and $\\pi$.\n",
    "\n",
    "- ### Choose an appropriate resolution (too coarse the curve won't be smooth; too fine, unnecessary)\n",
    "- ### You can use two consecutive plt.plot() statements.  Try to plot $y(x)$ first.\n",
    "- ### Give the figure a title ('Fequency Modulation'), by using plt.title(str).\n",
    "- ### Label the axes as \"Amp\" (for amplitude) and \"Freq\" (for frequency).\n",
    "- ### Use plt.text(x, y, str) to print the function you're plotting in the blank area of the plot."
   ]
  },
  {
   "cell_type": "markdown",
   "metadata": {},
   "source": [
    "## Subplots and \"Axes\""
   ]
  },
  {
   "cell_type": "code",
   "execution_count": null,
   "metadata": {},
   "outputs": [],
   "source": [
    "%matplotlib inline\n",
    "''' \n",
    "Using subplots (axes) -- different from the cell above,\n",
    "but equivalent way of plotting.\n",
    "\n",
    "'''\n",
    "y = np.linspace(1e-6, 15, 1000)  \n",
    "b = y**3/(np.exp(y)-1)\n",
    "\n",
    "# The following two lines are new\n",
    "fig = plt.figure()\n",
    "# 111: subplot structure: 1 by 1 grid\n",
    "ax = fig.add_subplot(111)\n",
    "\n",
    "# note how I do everything differently below but the results are the same as before\n",
    "# -- now I'm using the methods associated with the objects ax and fig, rather than the \n",
    "# functions in the pyplot module.\n",
    "# (except plt.show())\n",
    "ax.plot(y,b)\n",
    "ax.set_xlabel('Frequencey')\n",
    "ax.set_ylabel('Energy Density')\n",
    "ax.set_title('Black Body Spectrum')\n",
    "fig.savefig('planck.pdf')\n",
    "\n",
    "plt.show()"
   ]
  },
  {
   "cell_type": "markdown",
   "metadata": {},
   "source": [
    "## Example:\n",
    "\n",
    "### For x between –5 and 5, \n",
    "\n",
    "- ### plot the follow two functions in one figure but two separate subplots, stacked vertically:\n",
    "\n",
    "### $ sin(x)cos(x^2)$\n",
    "\n",
    "###       and \n",
    "\n",
    "### $ e^{-\\frac{x}{4}}sin(x)$\n",
    "\n",
    "- ### Plot the first curve with dots, and the second with a smooth dashed line a little bit thicker than the default thickness\n",
    "\n",
    "- ### Add horisontal and vertical grid lines to the second subplot\n",
    "\n",
    "- ### Add a title to the figure, \"Two Functions\"\n",
    "\n",
    "- ### Label the horizontal and veritcal axes for both subplots"
   ]
  },
  {
   "cell_type": "code",
   "execution_count": 36,
   "metadata": {},
   "outputs": [
    {
     "data": {
      "image/png": "[encoded data removed]",
      "text/plain": [
       "<Figure size 1080x360 with 2 Axes>"
      ]
     },
     "metadata": {
      "needs_background": "light"
     },
     "output_type": "display_data"
    }
   ],
   "source": [
    "'''\n",
    "Now more than one subplot\n",
    "\n",
    "Pay close attention -- I have changed things a bit since last time\n",
    "\n",
    "'''\n",
    "Xmin = -5.0; Xmax = 5.0\n",
    "Npoints = 500\n",
    "DelX= (Xmax-Xmin)/Npoints\n",
    "x = np.arange(Xmin, Xmax, DelX)\n",
    "y1 = -np.sin(x)*np.cos(x**2)\n",
    "y2 = np.exp(-x/4.)*np.sin (x)\n",
    "\n",
    "#fig = plt.figure()\n",
    "fig = plt.figure(figsize = (15,5))  #note how I specify figure size.\n",
    "\n",
    "# (211): 2 by 1 arrrangment, 1st plot.\n",
    "ax1 = fig.add_subplot(121)       \n",
    "fig.subplots_adjust(top=0.85)   # without this, won't be able to see plot title.\n",
    "ax1.set_title('Two Functions')\n",
    "\n",
    "#plt.plot(x, y1, 'r', lw=2)\n",
    "ax1.plot(x, y1, 'r.', lw=2)\n",
    "ax1.grid(True)                  # has to come after plot; plt.grid() works too\n",
    "ax1.set_ylabel('y1')\n",
    "\n",
    "# (212): 2 by 1 arrrangment, 2nd plot.\n",
    "ax2 = fig.add_subplot(122)\n",
    "#plt.plot(x, y2, 'g', lw=2)      \n",
    "ax2.plot(x, y2, 'g--', lw=2)      \n",
    "ax2.set_xlabel('x')\n",
    "ax2.set_ylabel('y2')\n",
    "\n",
    "plt.show()"
   ]
  },
  {
   "cell_type": "markdown",
   "metadata": {},
   "source": [
    "## Mini-Breakout Exercise\n",
    "- ### Do the above, except this time the two subplots should be side by side\n",
    "- ### Select an appropriate figure size for this arrangement"
   ]
  },
  {
   "cell_type": "code",
   "execution_count": null,
   "metadata": {},
   "outputs": [],
   "source": []
  },
  {
   "cell_type": "markdown",
   "metadata": {},
   "source": [
    "## End of week4-2"
   ]
  }
 ],
 "metadata": {
  "kernelspec": {
   "display_name": "Python 3",
   "language": "python",
   "name": "python3"
  },
  "language_info": {
   "codemirror_mode": {
    "name": "ipython",
    "version": 3
   },
   "file_extension": ".py",
   "mimetype": "text/x-python",
   "name": "python",
   "nbconvert_exporter": "python",
   "pygments_lexer": "ipython3",
   "version": "3.7.4"
  }
 },
 "nbformat": 4,
 "nbformat_minor": 1
}
